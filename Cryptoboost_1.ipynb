{
  "nbformat": 4,
  "nbformat_minor": 0,
  "metadata": {
    "colab": {
      "name": "Cryptoboost.ipynb",
      "provenance": [],
      "collapsed_sections": [],
      "machine_shape": "hm",
      "authorship_tag": "ABX9TyOo5BFa+9Aa5eUx4Ik9CyAU",
      "include_colab_link": true
    },
    "kernelspec": {
      "name": "python3",
      "display_name": "Python 3"
    },
    "accelerator": "GPU"
  },
  "cells": [
    {
      "cell_type": "markdown",
      "metadata": {
        "id": "view-in-github",
        "colab_type": "text"
      },
      "source": [
        "<a href=\"https://colab.research.google.com/github/igorrivin/finance-hacks/blob/master/Cryptoboost_1.ipynb\" target=\"_parent\"><img src=\"https://colab.research.google.com/assets/colab-badge.svg\" alt=\"Open In Colab\"/></a>"
      ]
    },
    {
      "cell_type": "code",
      "metadata": {
        "id": "FmDorJBGOTjW",
        "colab_type": "code",
        "colab": {
          "base_uri": "https://localhost:8080/",
          "height": 72
        },
        "outputId": "bcc3c1e6-f9e3-4af4-cd14-367477024878"
      },
      "source": [
        "import xgboost as xgb\n",
        "import pandas_datareader.data as web"
      ],
      "execution_count": 1,
      "outputs": [
        {
          "output_type": "stream",
          "text": [
            "/usr/local/lib/python3.6/dist-packages/pandas_datareader/compat/__init__.py:7: FutureWarning: pandas.util.testing is deprecated. Use the functions in the public API at pandas.testing instead.\n",
            "  from pandas.util.testing import assert_frame_equal\n"
          ],
          "name": "stderr"
        }
      ]
    },
    {
      "cell_type": "code",
      "metadata": {
        "id": "3f06QZJiOh5h",
        "colab_type": "code",
        "colab": {}
      },
      "source": [
        "# Import warnings and add a filter to ignore them\n",
        "import warnings\n",
        "warnings.simplefilter('ignore')\n",
        "# Import XGBoost\n",
        "import xgboost\n",
        "# XGBoost Classifier\n",
        "from xgboost import XGBClassifier\n",
        "# Classification report and confusion matrix\n",
        "from sklearn.metrics import classification_report\n",
        "from sklearn.metrics import confusion_matrix\n",
        "# Cross validation\n",
        "from sklearn.model_selection import KFold\n",
        "from sklearn.model_selection import cross_val_score\n",
        "# Pandas datareader to get the data\n",
        "from pandas_datareader import data\n",
        "# To plot the graphs\n",
        "import matplotlib.pyplot as plt\n",
        "import seaborn as sn\n",
        "# For data manipulation\n",
        "import pandas as pd\n",
        "import numpy as np"
      ],
      "execution_count": 0,
      "outputs": []
    },
    {
      "cell_type": "code",
      "metadata": {
        "id": "QhGA4ORuOn86",
        "colab_type": "code",
        "colab": {}
      },
      "source": [
        "from xgboost import plot_importance"
      ],
      "execution_count": 0,
      "outputs": []
    },
    {
      "cell_type": "code",
      "metadata": {
        "id": "gSGaVilCyDRD",
        "colab_type": "code",
        "colab": {
          "base_uri": "https://localhost:8080/",
          "height": 540
        },
        "outputId": "86b54575-e176-45c1-f68d-893074ded6c5"
      },
      "source": [
        "!pip install ax-platform"
      ],
      "execution_count": 4,
      "outputs": [
        {
          "output_type": "stream",
          "text": [
            "Collecting ax-platform\n",
            "\u001b[?25l  Downloading https://files.pythonhosted.org/packages/c3/e5/defa97540bf23447f15d142a644eed9a9d9fd1925cf1e3c4f47a49282ec0/ax_platform-0.1.9-py3-none-any.whl (499kB)\n",
            "\r\u001b[K     |▋                               | 10kB 26.5MB/s eta 0:00:01\r\u001b[K     |█▎                              | 20kB 2.1MB/s eta 0:00:01\r\u001b[K     |██                              | 30kB 2.5MB/s eta 0:00:01\r\u001b[K     |██▋                             | 40kB 2.0MB/s eta 0:00:01\r\u001b[K     |███▎                            | 51kB 2.2MB/s eta 0:00:01\r\u001b[K     |████                            | 61kB 2.6MB/s eta 0:00:01\r\u001b[K     |████▋                           | 71kB 2.8MB/s eta 0:00:01\r\u001b[K     |█████▎                          | 81kB 3.1MB/s eta 0:00:01\r\u001b[K     |██████                          | 92kB 3.4MB/s eta 0:00:01\r\u001b[K     |██████▋                         | 102kB 3.2MB/s eta 0:00:01\r\u001b[K     |███████▏                        | 112kB 3.2MB/s eta 0:00:01\r\u001b[K     |███████▉                        | 122kB 3.2MB/s eta 0:00:01\r\u001b[K     |████████▌                       | 133kB 3.2MB/s eta 0:00:01\r\u001b[K     |█████████▏                      | 143kB 3.2MB/s eta 0:00:01\r\u001b[K     |█████████▉                      | 153kB 3.2MB/s eta 0:00:01\r\u001b[K     |██████████▌                     | 163kB 3.2MB/s eta 0:00:01\r\u001b[K     |███████████▏                    | 174kB 3.2MB/s eta 0:00:01\r\u001b[K     |███████████▉                    | 184kB 3.2MB/s eta 0:00:01\r\u001b[K     |████████████▌                   | 194kB 3.2MB/s eta 0:00:01\r\u001b[K     |█████████████▏                  | 204kB 3.2MB/s eta 0:00:01\r\u001b[K     |█████████████▊                  | 215kB 3.2MB/s eta 0:00:01\r\u001b[K     |██████████████▍                 | 225kB 3.2MB/s eta 0:00:01\r\u001b[K     |███████████████                 | 235kB 3.2MB/s eta 0:00:01\r\u001b[K     |███████████████▊                | 245kB 3.2MB/s eta 0:00:01\r\u001b[K     |████████████████▍               | 256kB 3.2MB/s eta 0:00:01\r\u001b[K     |█████████████████               | 266kB 3.2MB/s eta 0:00:01\r\u001b[K     |█████████████████▊              | 276kB 3.2MB/s eta 0:00:01\r\u001b[K     |██████████████████▍             | 286kB 3.2MB/s eta 0:00:01\r\u001b[K     |███████████████████             | 296kB 3.2MB/s eta 0:00:01\r\u001b[K     |███████████████████▊            | 307kB 3.2MB/s eta 0:00:01\r\u001b[K     |████████████████████▍           | 317kB 3.2MB/s eta 0:00:01\r\u001b[K     |█████████████████████           | 327kB 3.2MB/s eta 0:00:01\r\u001b[K     |█████████████████████▋          | 337kB 3.2MB/s eta 0:00:01\r\u001b[K     |██████████████████████▎         | 348kB 3.2MB/s eta 0:00:01\r\u001b[K     |███████████████████████         | 358kB 3.2MB/s eta 0:00:01\r\u001b[K     |███████████████████████▋        | 368kB 3.2MB/s eta 0:00:01\r\u001b[K     |████████████████████████▎       | 378kB 3.2MB/s eta 0:00:01\r\u001b[K     |█████████████████████████       | 389kB 3.2MB/s eta 0:00:01\r\u001b[K     |█████████████████████████▋      | 399kB 3.2MB/s eta 0:00:01\r\u001b[K     |██████████████████████████▎     | 409kB 3.2MB/s eta 0:00:01\r\u001b[K     |███████████████████████████     | 419kB 3.2MB/s eta 0:00:01\r\u001b[K     |███████████████████████████▌    | 430kB 3.2MB/s eta 0:00:01\r\u001b[K     |████████████████████████████▏   | 440kB 3.2MB/s eta 0:00:01\r\u001b[K     |████████████████████████████▉   | 450kB 3.2MB/s eta 0:00:01\r\u001b[K     |█████████████████████████████▌  | 460kB 3.2MB/s eta 0:00:01\r\u001b[K     |██████████████████████████████▏ | 471kB 3.2MB/s eta 0:00:01\r\u001b[K     |██████████████████████████████▉ | 481kB 3.2MB/s eta 0:00:01\r\u001b[K     |███████████████████████████████▌| 491kB 3.2MB/s eta 0:00:01\r\u001b[K     |████████████████████████████████| 501kB 3.2MB/s \n",
            "\u001b[?25hRequirement already satisfied: scipy in /usr/local/lib/python3.6/dist-packages (from ax-platform) (1.4.1)\n",
            "Requirement already satisfied: pandas in /usr/local/lib/python3.6/dist-packages (from ax-platform) (1.0.3)\n",
            "Requirement already satisfied: scikit-learn in /usr/local/lib/python3.6/dist-packages (from ax-platform) (0.22.2.post1)\n",
            "Requirement already satisfied: plotly in /usr/local/lib/python3.6/dist-packages (from ax-platform) (4.4.1)\n",
            "Collecting botorch==0.2.1\n",
            "\u001b[?25l  Downloading https://files.pythonhosted.org/packages/64/e4/d696b12a84d505e9592fb6f8458a968b19efc22e30cc517dd2d2817e27e4/botorch-0.2.1-py3-none-any.whl (221kB)\n",
            "\r\u001b[K     |█▌                              | 10kB 34.6MB/s eta 0:00:01\r\u001b[K     |███                             | 20kB 33.6MB/s eta 0:00:01\r\u001b[K     |████▍                           | 30kB 41.1MB/s eta 0:00:01\r\u001b[K     |██████                          | 40kB 26.6MB/s eta 0:00:01\r\u001b[K     |███████▍                        | 51kB 20.4MB/s eta 0:00:01\r\u001b[K     |████████▉                       | 61kB 23.3MB/s eta 0:00:01\r\u001b[K     |██████████▍                     | 71kB 16.3MB/s eta 0:00:01\r\u001b[K     |███████████▉                    | 81kB 15.2MB/s eta 0:00:01\r\u001b[K     |█████████████▎                  | 92kB 16.7MB/s eta 0:00:01\r\u001b[K     |██████████████▉                 | 102kB 16.0MB/s eta 0:00:01\r\u001b[K     |████████████████▎               | 112kB 16.0MB/s eta 0:00:01\r\u001b[K     |█████████████████▊              | 122kB 16.0MB/s eta 0:00:01\r\u001b[K     |███████████████████▎            | 133kB 16.0MB/s eta 0:00:01\r\u001b[K     |████████████████████▊           | 143kB 16.0MB/s eta 0:00:01\r\u001b[K     |██████████████████████▏         | 153kB 16.0MB/s eta 0:00:01\r\u001b[K     |███████████████████████▊        | 163kB 16.0MB/s eta 0:00:01\r\u001b[K     |█████████████████████████▏      | 174kB 16.0MB/s eta 0:00:01\r\u001b[K     |██████████████████████████▋     | 184kB 16.0MB/s eta 0:00:01\r\u001b[K     |████████████████████████████▏   | 194kB 16.0MB/s eta 0:00:01\r\u001b[K     |█████████████████████████████▋  | 204kB 16.0MB/s eta 0:00:01\r\u001b[K     |███████████████████████████████ | 215kB 16.0MB/s eta 0:00:01\r\u001b[K     |████████████████████████████████| 225kB 16.0MB/s \n",
            "\u001b[?25hRequirement already satisfied: jinja2 in /usr/local/lib/python3.6/dist-packages (from ax-platform) (2.11.2)\n",
            "Requirement already satisfied: numpy>=1.13.3 in /usr/local/lib/python3.6/dist-packages (from scipy->ax-platform) (1.18.2)\n",
            "Requirement already satisfied: python-dateutil>=2.6.1 in /usr/local/lib/python3.6/dist-packages (from pandas->ax-platform) (2.8.1)\n",
            "Requirement already satisfied: pytz>=2017.2 in /usr/local/lib/python3.6/dist-packages (from pandas->ax-platform) (2018.9)\n",
            "Requirement already satisfied: joblib>=0.11 in /usr/local/lib/python3.6/dist-packages (from scikit-learn->ax-platform) (0.14.1)\n",
            "Requirement already satisfied: six in /usr/local/lib/python3.6/dist-packages (from plotly->ax-platform) (1.12.0)\n",
            "Requirement already satisfied: retrying>=1.3.3 in /usr/local/lib/python3.6/dist-packages (from plotly->ax-platform) (1.3.3)\n",
            "Requirement already satisfied: torch>=1.3.1 in /usr/local/lib/python3.6/dist-packages (from botorch==0.2.1->ax-platform) (1.4.0)\n",
            "Collecting gpytorch>=1.0.0\n",
            "\u001b[?25l  Downloading https://files.pythonhosted.org/packages/9c/5f/ce79e35c1a36deb25a0eac0f67bfe85fb8350eb8e19223950c3d615e5e9a/gpytorch-1.0.1.tar.gz (229kB)\n",
            "\r\u001b[K     |█▍                              | 10kB 29.3MB/s eta 0:00:01\r\u001b[K     |██▉                             | 20kB 35.4MB/s eta 0:00:01\r\u001b[K     |████▎                           | 30kB 41.7MB/s eta 0:00:01\r\u001b[K     |█████▊                          | 40kB 26.4MB/s eta 0:00:01\r\u001b[K     |███████▏                        | 51kB 20.4MB/s eta 0:00:01\r\u001b[K     |████████▋                       | 61kB 23.2MB/s eta 0:00:01\r\u001b[K     |██████████                      | 71kB 20.4MB/s eta 0:00:01\r\u001b[K     |███████████▍                    | 81kB 17.9MB/s eta 0:00:01\r\u001b[K     |████████████▉                   | 92kB 19.2MB/s eta 0:00:01\r\u001b[K     |██████████████▎                 | 102kB 18.3MB/s eta 0:00:01\r\u001b[K     |███████████████▊                | 112kB 18.3MB/s eta 0:00:01\r\u001b[K     |█████████████████▏              | 122kB 18.3MB/s eta 0:00:01\r\u001b[K     |██████████████████▌             | 133kB 18.3MB/s eta 0:00:01\r\u001b[K     |████████████████████            | 143kB 18.3MB/s eta 0:00:01\r\u001b[K     |█████████████████████▍          | 153kB 18.3MB/s eta 0:00:01\r\u001b[K     |██████████████████████▉         | 163kB 18.3MB/s eta 0:00:01\r\u001b[K     |████████████████████████▎       | 174kB 18.3MB/s eta 0:00:01\r\u001b[K     |█████████████████████████▊      | 184kB 18.3MB/s eta 0:00:01\r\u001b[K     |███████████████████████████▏    | 194kB 18.3MB/s eta 0:00:01\r\u001b[K     |████████████████████████████▌   | 204kB 18.3MB/s eta 0:00:01\r\u001b[K     |██████████████████████████████  | 215kB 18.3MB/s eta 0:00:01\r\u001b[K     |███████████████████████████████▍| 225kB 18.3MB/s eta 0:00:01\r\u001b[K     |████████████████████████████████| 235kB 18.3MB/s \n",
            "\u001b[?25hRequirement already satisfied: MarkupSafe>=0.23 in /usr/local/lib/python3.6/dist-packages (from jinja2->ax-platform) (1.1.1)\n",
            "Building wheels for collected packages: gpytorch\n",
            "  Building wheel for gpytorch (setup.py) ... \u001b[?25l\u001b[?25hdone\n",
            "  Created wheel for gpytorch: filename=gpytorch-1.0.1-py2.py3-none-any.whl size=390441 sha256=942af1022eacd5f79e0a7f8df1fabbad47274ff3c28179c172f5920f644fce98\n",
            "  Stored in directory: /root/.cache/pip/wheels/10/2f/7a/3328e5713d796daeec2ce8ded141d5f3837253fc3c2a5c62e0\n",
            "Successfully built gpytorch\n",
            "Installing collected packages: gpytorch, botorch, ax-platform\n",
            "Successfully installed ax-platform-0.1.9 botorch-0.2.1 gpytorch-1.0.1\n"
          ],
          "name": "stdout"
        }
      ]
    },
    {
      "cell_type": "code",
      "metadata": {
        "id": "GanDTGwYyoSo",
        "colab_type": "code",
        "colab": {}
      },
      "source": [
        "from ax.plot.contour import plot_contour\n",
        "from ax.plot.trace import optimization_trace_single_method\n",
        "from ax.service.managed_loop import optimize\n",
        "from ax.metrics.branin import branin\n",
        "from ax.utils.measurement.synthetic_functions import hartmann6\n",
        "from ax.utils.notebook.plotting import render, init_notebook_plotting\n",
        "from ax import Experiment, save\n",
        "from ax import load"
      ],
      "execution_count": 0,
      "outputs": []
    },
    {
      "cell_type": "code",
      "metadata": {
        "id": "As_JqVoazC7Q",
        "colab_type": "code",
        "colab": {}
      },
      "source": [
        "class booster(object):\n",
        "  def __init__(self, stock_dict, col):\n",
        "    self.stock_dict = stock_dict\n",
        "    self.col = col\n",
        "\n",
        "  def doprep(self, params):\n",
        "    stepper = params['stepper']\n",
        "    numsteps = params['numsteps']\n",
        "    abscut = params['abscut']\n",
        "    holdtime = params['holdtime']\n",
        "    stock_data_dictionary = {}\n",
        "    for stock_name in stock_dict:\n",
        "      df=stock_dict[stock_name].copy()\n",
        "      # Calculate the daily percent change\n",
        "      df['daily_pct_change'] = df[self.col].pct_change()\n",
        "      # create the predictors\n",
        "      predictor_list = []\n",
        "      for r in range(numsteps):\n",
        "        howmany = round(stepper**r)\n",
        "        df['pct_change_'+str(r)] = df.daily_pct_change.rolling(howmany).sum()\n",
        "        #df['std_'+str(howmany)] = df.daily_pct_change.rolling(howmany).std()\n",
        "        predictor_list.append('pct_change_'+str(r))\n",
        "        #predictor_list.append('std_'+str(howmany))\n",
        "      # Target Variable\n",
        "      df['return_next_day'] = df.daily_pct_change.shift(-holdtime).rolling(holdtime).sum()/holdtime\n",
        "      df['actual_signal'] = \\\n",
        "        df.daily_pct_change.shift(-holdtime).rolling(holdtime).sum().map(lambda x: 0 if np.abs(x)<abscut else np.sign(x))\n",
        "      df = df.dropna()\n",
        "      # Add the data to dictionary\n",
        "      stock_data_dictionary.update({stock_name: df})\n",
        "    self.stock_data_dictionary = stock_data_dictionary\n",
        "    self.predictor_list = predictor_list\n",
        "    print(self.predictor_list)\n",
        "  \n",
        "  def makesplits(self):\n",
        "    # Create a placeholder for the train and test split data\n",
        "    X_train = pd.DataFrame()\n",
        "    X_test = pd.DataFrame()\n",
        "    y_train = pd.Series()\n",
        "    y_test = pd.Series()\n",
        "    for stock_name in self.stock_data_dictionary:\n",
        "      # Get predictor variables\n",
        "      X = self.stock_data_dictionary[stock_name][self.predictor_list]\n",
        "      # Get the target variable\n",
        "      y = self.stock_data_dictionary[stock_name].actual_signal\n",
        "      # Divide the dataset into train and test\n",
        "      train_length = int(len(X)*0.80)\n",
        "      X_train = X_train.append(X[:train_length])\n",
        "      X_test = X_test.append(X[train_length:])\n",
        "      y_train = y_train.append(y[:train_length])\n",
        "      y_test = y_test.append(y[train_length:])\n",
        "    self.X_train = X_train\n",
        "    self.X_test = X_test\n",
        "    self.y_train = y_train\n",
        "    self.y_test = y_test\n",
        "\n",
        "  def crossval(self):\n",
        "    self.model = XGBClassifier(tree_method='gpu_hist', gpu_id=0)\n",
        "    #self.model = XGBClassifier()\n",
        "    # Initialize the KFold parameters\n",
        "    kfold = KFold(n_splits=5, random_state=7)\n",
        "    # Perform K-Fold Cross Validation\n",
        "    results = cross_val_score(self.model, self.X_train, self.y_train, cv=kfold)\n",
        "    # Print the average results\n",
        "    print(\"Accuracy: %.2f%% (%.2f%%)\" % (results.mean()*100, results.std()*100))\n",
        "    self.model.fit(self.X_train, self.y_train)\n",
        "    self.y_pred = self.model.predict(self.X_test)\n",
        "\n",
        "  def doport(self):\n",
        "    # Create an empty dataframe to store the strategy returns of individual stocks\n",
        "    self.portfolio = pd.DataFrame(columns=[*self.stock_dict])\n",
        "    # For each stock in the stock list, plot the strategy returns and buy and hold returns\n",
        "    for stock_name in self.stock_data_dictionary:\n",
        "      # Get the data\n",
        "      df = self.stock_data_dictionary[stock_name]\n",
        "      # Store the predictor variables in X\n",
        "      X = df[self.predictor_list]\n",
        "      # Define the train and test dataset\n",
        "      train_length = int(len(X)*0.80)\n",
        "      # Predict the signal and store in predicted signal column\n",
        "      df['predicted_signal'] = self.model.predict(X)\n",
        "      # Calculate the strategy returns\n",
        "      df['strategy_returns'] = df.return_next_day * df.predicted_signal\n",
        "      # Add the strategy returns to the portfolio dataframe\n",
        "      self.portfolio[stock_name] = df.strategy_returns[train_length:]\n",
        "    self.portfolio.dropna(inplace=True)\n",
        "    self.portfolio=self.portfolio.resample('1D').sum()\n",
        "    portmean = self.portfolio.mean(axis=1)\n",
        "    meanmean = portmean.mean()\n",
        "    meanstd = portmean.std()\n",
        "    sharpe = meanmean/meanstd\n",
        "    return sharpe\n",
        "      \n",
        "    \n",
        "  def __call__(self, params):\n",
        "    self.doprep(params)\n",
        "    self.makesplits()\n",
        "    self.crossval()\n",
        "    return self.doport()\n",
        "  \n",
        "\n",
        "\n",
        "\n",
        "    "
      ],
      "execution_count": 0,
      "outputs": []
    },
    {
      "cell_type": "code",
      "metadata": {
        "id": "E5WTel4ROtFq",
        "colab_type": "code",
        "colab": {}
      },
      "source": [
        "# Set the stock list\n",
        "stock_dict = {}\n",
        "stock_list = ['BTC', 'ETH']\n",
        "btc = pd.read_csv(\"https://storage.googleapis.com/igorrivin_data_bucket/COINBASE_SPOT_BTC_USD_1MIN.csv\", index_col=0, parse_dates=True)\n",
        "#btc1=btc.resample('1h').agg({'Close':'last','Open':'first', 'High':'max', 'Low':'min'})\n",
        "eth = pd.read_csv(\"https://storage.googleapis.com/igorrivin_data_bucket/COINBASE_SPOT_ETH_USD_1MIN.csv\", index_col=0, parse_dates=True)\n",
        "#eth1=eth.resample('1h').agg({'Close':'last','Open':'first', 'High':'max', 'Low':'min'})\n",
        "stock_dict['BTC']=btc\n",
        "stock_dict['ETH']=eth"
      ],
      "execution_count": 0,
      "outputs": []
    },
    {
      "cell_type": "code",
      "metadata": {
        "id": "3OIQ-ktxd22F",
        "colab_type": "code",
        "colab": {
          "base_uri": "https://localhost:8080/",
          "height": 243
        },
        "outputId": "6ff3723a-20fa-49ed-da1d-b707862b2769"
      },
      "source": [
        "stock_dict['BTC'].info()"
      ],
      "execution_count": 8,
      "outputs": [
        {
          "output_type": "stream",
          "text": [
            "<class 'pandas.core.frame.DataFrame'>\n",
            "DatetimeIndex: 1714735 entries, 2017-01-01 00:00:00 to 2020-04-17 08:40:00\n",
            "Data columns (total 6 columns):\n",
            " #   Column        Dtype  \n",
            "---  ------        -----  \n",
            " 0   Close         float64\n",
            " 1   High          float64\n",
            " 2   Low           float64\n",
            " 3   Open          float64\n",
            " 4   trades_count  int64  \n",
            " 5   Volume        float64\n",
            "dtypes: float64(5), int64(1)\n",
            "memory usage: 91.6 MB\n"
          ],
          "name": "stdout"
        }
      ]
    },
    {
      "cell_type": "code",
      "metadata": {
        "id": "cFIPhiVVyk0h",
        "colab_type": "code",
        "colab": {}
      },
      "source": [
        "booboo = booster(stock_dict, 'Close')"
      ],
      "execution_count": 0,
      "outputs": []
    },
    {
      "cell_type": "code",
      "metadata": {
        "id": "cIxOvC-JbBQo",
        "colab_type": "code",
        "colab": {
          "base_uri": "https://localhost:8080/",
          "height": 1000
        },
        "outputId": "21fabe37-7130-4517-ad71-654db3051818"
      },
      "source": [
        "best_parameters, values, experiment, model = optimize(\n",
        "        parameters = [\n",
        "            {\n",
        "                \"name\": \"stepper\",\n",
        "                \"type\": \"range\",\n",
        "                \"bounds\" : [1.51, 1.7],\n",
        "                \"value_type\" : \"float\",\n",
        "            },\n",
        "            {\n",
        "                \"name\": \"numsteps\",\n",
        "                \"type\": \"range\",\n",
        "                \"bounds\": [5, 23],\n",
        "                \"value_type\" : \"int\",\n",
        "            },\n",
        "            {\n",
        "                \"name\": \"holdtime\",\n",
        "                \"type\": \"range\",\n",
        "                \"bounds\": [1, 1000],\n",
        "                \"value_type\" : \"int\",\n",
        "                \"log_scale\" : True,\n",
        "            },\n",
        "            {\n",
        "                \"name\": \"abscut\",\n",
        "                \"type\": \"range\",\n",
        "                \"bounds\": [0.0001, 0.01],\n",
        "                \"value_type\" : \"float\",\n",
        "                \"log_scale\" : True,\n",
        "            },\n",
        "        ],\n",
        "        experiment_name=\"x_test\",\n",
        "        objective_name=\"x_eval\",\n",
        "        evaluation_function = booboo,\n",
        "        #parameter_constraints = [\"longdur >= shortdur\"],\n",
        "        #minimize=True,\n",
        "        total_trials=60,\n",
        "    )"
      ],
      "execution_count": 10,
      "outputs": [
        {
          "output_type": "stream",
          "text": [
            "[INFO 04-24 14:16:32] ax.modelbridge.dispatch_utils: Using Bayesian Optimization generation strategy: GenerationStrategy(name='Sobol+GPEI', steps=[Sobol for 5 arms, GPEI for subsequent arms], generated 0 arm(s) so far). Iterations after 5 will take longer to generate due to model-fitting.\n",
            "[INFO 04-24 14:16:32] ax.service.managed_loop: Started full optimization with 60 steps.\n",
            "[INFO 04-24 14:16:32] ax.service.managed_loop: Running optimization trial 1...\n"
          ],
          "name": "stderr"
        },
        {
          "output_type": "stream",
          "text": [
            "['pct_change_0', 'pct_change_1', 'pct_change_2', 'pct_change_3', 'pct_change_4', 'pct_change_5', 'pct_change_6']\n",
            "Accuracy: 80.44% (3.66%)\n"
          ],
          "name": "stdout"
        },
        {
          "output_type": "stream",
          "text": [
            "[INFO 04-24 14:17:32] ax.service.managed_loop: Running optimization trial 2...\n"
          ],
          "name": "stderr"
        },
        {
          "output_type": "stream",
          "text": [
            "['pct_change_0', 'pct_change_1', 'pct_change_2', 'pct_change_3', 'pct_change_4', 'pct_change_5', 'pct_change_6', 'pct_change_7', 'pct_change_8', 'pct_change_9', 'pct_change_10', 'pct_change_11', 'pct_change_12', 'pct_change_13', 'pct_change_14', 'pct_change_15', 'pct_change_16', 'pct_change_17', 'pct_change_18', 'pct_change_19']\n",
            "Accuracy: 52.41% (1.47%)\n"
          ],
          "name": "stdout"
        },
        {
          "output_type": "stream",
          "text": [
            "[INFO 04-24 14:18:45] ax.service.managed_loop: Running optimization trial 3...\n"
          ],
          "name": "stderr"
        },
        {
          "output_type": "stream",
          "text": [
            "['pct_change_0', 'pct_change_1', 'pct_change_2', 'pct_change_3', 'pct_change_4', 'pct_change_5', 'pct_change_6', 'pct_change_7', 'pct_change_8', 'pct_change_9', 'pct_change_10', 'pct_change_11', 'pct_change_12', 'pct_change_13', 'pct_change_14', 'pct_change_15', 'pct_change_16']\n",
            "Accuracy: 45.10% (1.00%)\n"
          ],
          "name": "stdout"
        },
        {
          "output_type": "stream",
          "text": [
            "[INFO 04-24 14:19:55] ax.service.managed_loop: Running optimization trial 4...\n"
          ],
          "name": "stderr"
        },
        {
          "output_type": "stream",
          "text": [
            "['pct_change_0', 'pct_change_1', 'pct_change_2', 'pct_change_3', 'pct_change_4', 'pct_change_5', 'pct_change_6', 'pct_change_7', 'pct_change_8', 'pct_change_9', 'pct_change_10', 'pct_change_11', 'pct_change_12', 'pct_change_13', 'pct_change_14', 'pct_change_15', 'pct_change_16', 'pct_change_17', 'pct_change_18', 'pct_change_19']\n",
            "Accuracy: 65.20% (6.24%)\n"
          ],
          "name": "stdout"
        },
        {
          "output_type": "stream",
          "text": [
            "[INFO 04-24 14:21:06] ax.service.managed_loop: Running optimization trial 5...\n"
          ],
          "name": "stderr"
        },
        {
          "output_type": "stream",
          "text": [
            "['pct_change_0', 'pct_change_1', 'pct_change_2', 'pct_change_3', 'pct_change_4', 'pct_change_5', 'pct_change_6', 'pct_change_7', 'pct_change_8', 'pct_change_9']\n",
            "Accuracy: 46.30% (0.92%)\n"
          ],
          "name": "stdout"
        },
        {
          "output_type": "stream",
          "text": [
            "[INFO 04-24 14:22:15] ax.service.managed_loop: Running optimization trial 6...\n"
          ],
          "name": "stderr"
        },
        {
          "output_type": "stream",
          "text": [
            "['pct_change_0', 'pct_change_1', 'pct_change_2', 'pct_change_3', 'pct_change_4', 'pct_change_5', 'pct_change_6', 'pct_change_7', 'pct_change_8', 'pct_change_9', 'pct_change_10', 'pct_change_11']\n",
            "Accuracy: 50.67% (0.44%)\n"
          ],
          "name": "stdout"
        },
        {
          "output_type": "stream",
          "text": [
            "[INFO 04-24 14:23:30] ax.service.managed_loop: Running optimization trial 7...\n"
          ],
          "name": "stderr"
        },
        {
          "output_type": "stream",
          "text": [
            "['pct_change_0', 'pct_change_1', 'pct_change_2', 'pct_change_3', 'pct_change_4', 'pct_change_5', 'pct_change_6', 'pct_change_7']\n",
            "Accuracy: 44.49% (1.30%)\n"
          ],
          "name": "stdout"
        },
        {
          "output_type": "stream",
          "text": [
            "[INFO 04-24 14:24:34] ax.service.managed_loop: Running optimization trial 8...\n"
          ],
          "name": "stderr"
        },
        {
          "output_type": "stream",
          "text": [
            "['pct_change_0', 'pct_change_1', 'pct_change_2', 'pct_change_3', 'pct_change_4', 'pct_change_5', 'pct_change_6', 'pct_change_7', 'pct_change_8', 'pct_change_9', 'pct_change_10']\n",
            "Accuracy: 45.03% (1.25%)\n"
          ],
          "name": "stdout"
        },
        {
          "output_type": "stream",
          "text": [
            "[INFO 04-24 14:25:46] ax.service.managed_loop: Running optimization trial 9...\n"
          ],
          "name": "stderr"
        },
        {
          "output_type": "stream",
          "text": [
            "['pct_change_0', 'pct_change_1', 'pct_change_2', 'pct_change_3', 'pct_change_4', 'pct_change_5', 'pct_change_6', 'pct_change_7', 'pct_change_8', 'pct_change_9']\n",
            "Accuracy: 44.77% (0.41%)\n"
          ],
          "name": "stdout"
        },
        {
          "output_type": "stream",
          "text": [
            "[INFO 04-24 14:26:57] ax.service.managed_loop: Running optimization trial 10...\n"
          ],
          "name": "stderr"
        },
        {
          "output_type": "stream",
          "text": [
            "['pct_change_0', 'pct_change_1', 'pct_change_2', 'pct_change_3', 'pct_change_4', 'pct_change_5', 'pct_change_6', 'pct_change_7']\n",
            "Accuracy: 44.67% (0.71%)\n"
          ],
          "name": "stdout"
        },
        {
          "output_type": "stream",
          "text": [
            "[INFO 04-24 14:28:01] ax.service.managed_loop: Running optimization trial 11...\n"
          ],
          "name": "stderr"
        },
        {
          "output_type": "stream",
          "text": [
            "['pct_change_0', 'pct_change_1', 'pct_change_2', 'pct_change_3', 'pct_change_4', 'pct_change_5', 'pct_change_6', 'pct_change_7', 'pct_change_8', 'pct_change_9', 'pct_change_10']\n",
            "Accuracy: 45.64% (1.36%)\n"
          ],
          "name": "stdout"
        },
        {
          "output_type": "stream",
          "text": [
            "[INFO 04-24 14:29:15] ax.service.managed_loop: Running optimization trial 12...\n"
          ],
          "name": "stderr"
        },
        {
          "output_type": "stream",
          "text": [
            "['pct_change_0', 'pct_change_1', 'pct_change_2', 'pct_change_3', 'pct_change_4', 'pct_change_5', 'pct_change_6', 'pct_change_7', 'pct_change_8', 'pct_change_9', 'pct_change_10', 'pct_change_11']\n",
            "Accuracy: 48.98% (2.52%)\n"
          ],
          "name": "stdout"
        },
        {
          "output_type": "stream",
          "text": [
            "[INFO 04-24 14:30:30] ax.service.managed_loop: Running optimization trial 13...\n"
          ],
          "name": "stderr"
        },
        {
          "output_type": "stream",
          "text": [
            "['pct_change_0', 'pct_change_1', 'pct_change_2', 'pct_change_3', 'pct_change_4', 'pct_change_5', 'pct_change_6', 'pct_change_7', 'pct_change_8', 'pct_change_9', 'pct_change_10']\n",
            "Accuracy: 60.53% (4.65%)\n"
          ],
          "name": "stdout"
        },
        {
          "output_type": "stream",
          "text": [
            "[INFO 04-24 14:31:42] ax.service.managed_loop: Running optimization trial 14...\n"
          ],
          "name": "stderr"
        },
        {
          "output_type": "stream",
          "text": [
            "['pct_change_0', 'pct_change_1', 'pct_change_2', 'pct_change_3', 'pct_change_4', 'pct_change_5', 'pct_change_6', 'pct_change_7', 'pct_change_8', 'pct_change_9', 'pct_change_10', 'pct_change_11', 'pct_change_12']\n",
            "Accuracy: 53.17% (3.43%)\n"
          ],
          "name": "stdout"
        },
        {
          "output_type": "stream",
          "text": [
            "[INFO 04-24 14:32:51] ax.service.managed_loop: Running optimization trial 15...\n"
          ],
          "name": "stderr"
        },
        {
          "output_type": "stream",
          "text": [
            "['pct_change_0', 'pct_change_1', 'pct_change_2', 'pct_change_3', 'pct_change_4', 'pct_change_5', 'pct_change_6', 'pct_change_7', 'pct_change_8', 'pct_change_9', 'pct_change_10', 'pct_change_11', 'pct_change_12', 'pct_change_13', 'pct_change_14', 'pct_change_15']\n",
            "Accuracy: 53.23% (3.45%)\n"
          ],
          "name": "stdout"
        },
        {
          "output_type": "stream",
          "text": [
            "[INFO 04-24 14:34:04] ax.service.managed_loop: Running optimization trial 16...\n"
          ],
          "name": "stderr"
        },
        {
          "output_type": "stream",
          "text": [
            "['pct_change_0', 'pct_change_1', 'pct_change_2', 'pct_change_3', 'pct_change_4', 'pct_change_5', 'pct_change_6', 'pct_change_7', 'pct_change_8', 'pct_change_9', 'pct_change_10', 'pct_change_11', 'pct_change_12', 'pct_change_13', 'pct_change_14', 'pct_change_15', 'pct_change_16']\n",
            "Accuracy: 65.08% (4.63%)\n"
          ],
          "name": "stdout"
        },
        {
          "output_type": "stream",
          "text": [
            "[INFO 04-24 14:35:16] ax.service.managed_loop: Running optimization trial 17...\n"
          ],
          "name": "stderr"
        },
        {
          "output_type": "stream",
          "text": [
            "['pct_change_0', 'pct_change_1', 'pct_change_2', 'pct_change_3', 'pct_change_4', 'pct_change_5', 'pct_change_6', 'pct_change_7', 'pct_change_8', 'pct_change_9', 'pct_change_10', 'pct_change_11', 'pct_change_12', 'pct_change_13', 'pct_change_14', 'pct_change_15']\n",
            "Accuracy: 48.30% (2.27%)\n"
          ],
          "name": "stdout"
        },
        {
          "output_type": "stream",
          "text": [
            "[INFO 04-24 14:36:29] ax.service.managed_loop: Running optimization trial 18...\n"
          ],
          "name": "stderr"
        },
        {
          "output_type": "stream",
          "text": [
            "['pct_change_0', 'pct_change_1', 'pct_change_2', 'pct_change_3', 'pct_change_4', 'pct_change_5', 'pct_change_6', 'pct_change_7', 'pct_change_8', 'pct_change_9', 'pct_change_10', 'pct_change_11', 'pct_change_12', 'pct_change_13', 'pct_change_14', 'pct_change_15', 'pct_change_16']\n",
            "Accuracy: 46.20% (1.29%)\n"
          ],
          "name": "stdout"
        },
        {
          "output_type": "stream",
          "text": [
            "[INFO 04-24 14:37:42] ax.service.managed_loop: Running optimization trial 19...\n"
          ],
          "name": "stderr"
        },
        {
          "output_type": "stream",
          "text": [
            "['pct_change_0', 'pct_change_1', 'pct_change_2', 'pct_change_3', 'pct_change_4', 'pct_change_5', 'pct_change_6', 'pct_change_7', 'pct_change_8', 'pct_change_9', 'pct_change_10', 'pct_change_11', 'pct_change_12', 'pct_change_13', 'pct_change_14', 'pct_change_15']\n",
            "Accuracy: 45.32% (0.66%)\n"
          ],
          "name": "stdout"
        },
        {
          "output_type": "stream",
          "text": [
            "[INFO 04-24 14:38:57] ax.service.managed_loop: Running optimization trial 20...\n"
          ],
          "name": "stderr"
        },
        {
          "output_type": "stream",
          "text": [
            "['pct_change_0', 'pct_change_1', 'pct_change_2', 'pct_change_3', 'pct_change_4', 'pct_change_5', 'pct_change_6', 'pct_change_7', 'pct_change_8', 'pct_change_9', 'pct_change_10', 'pct_change_11', 'pct_change_12', 'pct_change_13', 'pct_change_14', 'pct_change_15', 'pct_change_16']\n",
            "Accuracy: 47.43% (1.82%)\n"
          ],
          "name": "stdout"
        },
        {
          "output_type": "stream",
          "text": [
            "[INFO 04-24 14:40:09] ax.service.managed_loop: Running optimization trial 21...\n"
          ],
          "name": "stderr"
        },
        {
          "output_type": "stream",
          "text": [
            "['pct_change_0', 'pct_change_1', 'pct_change_2', 'pct_change_3', 'pct_change_4', 'pct_change_5', 'pct_change_6', 'pct_change_7', 'pct_change_8', 'pct_change_9', 'pct_change_10', 'pct_change_11', 'pct_change_12', 'pct_change_13', 'pct_change_14', 'pct_change_15', 'pct_change_16', 'pct_change_17']\n",
            "Accuracy: 47.56% (2.16%)\n"
          ],
          "name": "stdout"
        },
        {
          "output_type": "stream",
          "text": [
            "[INFO 04-24 14:41:23] ax.service.managed_loop: Running optimization trial 22...\n"
          ],
          "name": "stderr"
        },
        {
          "output_type": "stream",
          "text": [
            "['pct_change_0', 'pct_change_1', 'pct_change_2', 'pct_change_3', 'pct_change_4', 'pct_change_5', 'pct_change_6', 'pct_change_7', 'pct_change_8', 'pct_change_9', 'pct_change_10', 'pct_change_11', 'pct_change_12', 'pct_change_13', 'pct_change_14', 'pct_change_15']\n",
            "Accuracy: 46.50% (1.58%)\n"
          ],
          "name": "stdout"
        },
        {
          "output_type": "stream",
          "text": [
            "[INFO 04-24 14:42:37] ax.service.managed_loop: Running optimization trial 23...\n"
          ],
          "name": "stderr"
        },
        {
          "output_type": "stream",
          "text": [
            "['pct_change_0', 'pct_change_1', 'pct_change_2', 'pct_change_3', 'pct_change_4', 'pct_change_5', 'pct_change_6', 'pct_change_7', 'pct_change_8', 'pct_change_9', 'pct_change_10', 'pct_change_11', 'pct_change_12', 'pct_change_13', 'pct_change_14']\n",
            "Accuracy: 47.11% (1.93%)\n"
          ],
          "name": "stdout"
        },
        {
          "output_type": "stream",
          "text": [
            "[INFO 04-24 14:43:49] ax.service.managed_loop: Running optimization trial 24...\n"
          ],
          "name": "stderr"
        },
        {
          "output_type": "stream",
          "text": [
            "['pct_change_0', 'pct_change_1', 'pct_change_2', 'pct_change_3', 'pct_change_4', 'pct_change_5', 'pct_change_6', 'pct_change_7', 'pct_change_8', 'pct_change_9', 'pct_change_10', 'pct_change_11', 'pct_change_12', 'pct_change_13', 'pct_change_14', 'pct_change_15', 'pct_change_16']\n",
            "Accuracy: 46.95% (1.86%)\n"
          ],
          "name": "stdout"
        },
        {
          "output_type": "stream",
          "text": [
            "[INFO 04-24 14:45:02] ax.service.managed_loop: Running optimization trial 25...\n"
          ],
          "name": "stderr"
        },
        {
          "output_type": "stream",
          "text": [
            "['pct_change_0', 'pct_change_1', 'pct_change_2', 'pct_change_3', 'pct_change_4', 'pct_change_5', 'pct_change_6', 'pct_change_7', 'pct_change_8', 'pct_change_9', 'pct_change_10', 'pct_change_11', 'pct_change_12', 'pct_change_13', 'pct_change_14', 'pct_change_15']\n",
            "Accuracy: 45.90% (0.88%)\n"
          ],
          "name": "stdout"
        },
        {
          "output_type": "stream",
          "text": [
            "[INFO 04-24 14:46:16] ax.service.managed_loop: Running optimization trial 26...\n"
          ],
          "name": "stderr"
        },
        {
          "output_type": "stream",
          "text": [
            "['pct_change_0', 'pct_change_1', 'pct_change_2', 'pct_change_3', 'pct_change_4', 'pct_change_5', 'pct_change_6', 'pct_change_7', 'pct_change_8', 'pct_change_9', 'pct_change_10', 'pct_change_11', 'pct_change_12', 'pct_change_13', 'pct_change_14', 'pct_change_15']\n",
            "Accuracy: 45.95% (0.64%)\n"
          ],
          "name": "stdout"
        },
        {
          "output_type": "stream",
          "text": [
            "[INFO 04-24 14:47:29] ax.service.managed_loop: Running optimization trial 27...\n"
          ],
          "name": "stderr"
        },
        {
          "output_type": "stream",
          "text": [
            "['pct_change_0', 'pct_change_1', 'pct_change_2', 'pct_change_3', 'pct_change_4', 'pct_change_5', 'pct_change_6', 'pct_change_7', 'pct_change_8', 'pct_change_9', 'pct_change_10', 'pct_change_11', 'pct_change_12', 'pct_change_13', 'pct_change_14', 'pct_change_15']\n",
            "Accuracy: 46.16% (0.63%)\n"
          ],
          "name": "stdout"
        },
        {
          "output_type": "stream",
          "text": [
            "[INFO 04-24 14:48:43] ax.service.managed_loop: Running optimization trial 28...\n"
          ],
          "name": "stderr"
        },
        {
          "output_type": "stream",
          "text": [
            "['pct_change_0', 'pct_change_1', 'pct_change_2', 'pct_change_3', 'pct_change_4', 'pct_change_5', 'pct_change_6', 'pct_change_7', 'pct_change_8', 'pct_change_9', 'pct_change_10', 'pct_change_11', 'pct_change_12', 'pct_change_13', 'pct_change_14', 'pct_change_15', 'pct_change_16']\n",
            "Accuracy: 46.17% (0.64%)\n"
          ],
          "name": "stdout"
        },
        {
          "output_type": "stream",
          "text": [
            "[INFO 04-24 14:49:56] ax.service.managed_loop: Running optimization trial 29...\n"
          ],
          "name": "stderr"
        },
        {
          "output_type": "stream",
          "text": [
            "['pct_change_0', 'pct_change_1', 'pct_change_2', 'pct_change_3', 'pct_change_4', 'pct_change_5', 'pct_change_6', 'pct_change_7', 'pct_change_8', 'pct_change_9', 'pct_change_10', 'pct_change_11', 'pct_change_12', 'pct_change_13', 'pct_change_14', 'pct_change_15', 'pct_change_16']\n",
            "Accuracy: 46.62% (0.66%)\n"
          ],
          "name": "stdout"
        },
        {
          "output_type": "stream",
          "text": [
            "[INFO 04-24 14:51:08] ax.service.managed_loop: Running optimization trial 30...\n"
          ],
          "name": "stderr"
        },
        {
          "output_type": "stream",
          "text": [
            "['pct_change_0', 'pct_change_1', 'pct_change_2', 'pct_change_3', 'pct_change_4', 'pct_change_5', 'pct_change_6', 'pct_change_7', 'pct_change_8', 'pct_change_9', 'pct_change_10', 'pct_change_11', 'pct_change_12', 'pct_change_13', 'pct_change_14', 'pct_change_15', 'pct_change_16']\n",
            "Accuracy: 46.43% (0.63%)\n"
          ],
          "name": "stdout"
        },
        {
          "output_type": "stream",
          "text": [
            "[INFO 04-24 14:52:20] ax.service.managed_loop: Running optimization trial 31...\n"
          ],
          "name": "stderr"
        },
        {
          "output_type": "stream",
          "text": [
            "['pct_change_0', 'pct_change_1', 'pct_change_2', 'pct_change_3', 'pct_change_4', 'pct_change_5', 'pct_change_6', 'pct_change_7', 'pct_change_8', 'pct_change_9', 'pct_change_10', 'pct_change_11', 'pct_change_12', 'pct_change_13', 'pct_change_14', 'pct_change_15', 'pct_change_16']\n",
            "Accuracy: 46.35% (0.68%)\n"
          ],
          "name": "stdout"
        },
        {
          "output_type": "stream",
          "text": [
            "[INFO 04-24 14:53:32] ax.service.managed_loop: Running optimization trial 32...\n"
          ],
          "name": "stderr"
        },
        {
          "output_type": "stream",
          "text": [
            "['pct_change_0', 'pct_change_1', 'pct_change_2', 'pct_change_3', 'pct_change_4', 'pct_change_5', 'pct_change_6', 'pct_change_7', 'pct_change_8', 'pct_change_9', 'pct_change_10', 'pct_change_11', 'pct_change_12', 'pct_change_13', 'pct_change_14', 'pct_change_15', 'pct_change_16']\n",
            "Accuracy: 46.19% (0.63%)\n"
          ],
          "name": "stdout"
        },
        {
          "output_type": "stream",
          "text": [
            "[INFO 04-24 14:54:45] ax.service.managed_loop: Running optimization trial 33...\n"
          ],
          "name": "stderr"
        },
        {
          "output_type": "stream",
          "text": [
            "['pct_change_0', 'pct_change_1', 'pct_change_2', 'pct_change_3', 'pct_change_4', 'pct_change_5', 'pct_change_6', 'pct_change_7', 'pct_change_8', 'pct_change_9', 'pct_change_10', 'pct_change_11', 'pct_change_12', 'pct_change_13', 'pct_change_14', 'pct_change_15']\n",
            "Accuracy: 46.45% (0.68%)\n"
          ],
          "name": "stdout"
        },
        {
          "output_type": "stream",
          "text": [
            "[INFO 04-24 14:55:57] ax.service.managed_loop: Running optimization trial 34...\n"
          ],
          "name": "stderr"
        },
        {
          "output_type": "stream",
          "text": [
            "['pct_change_0', 'pct_change_1', 'pct_change_2', 'pct_change_3', 'pct_change_4', 'pct_change_5', 'pct_change_6', 'pct_change_7', 'pct_change_8', 'pct_change_9', 'pct_change_10', 'pct_change_11', 'pct_change_12', 'pct_change_13', 'pct_change_14', 'pct_change_15']\n",
            "Accuracy: 46.59% (0.67%)\n"
          ],
          "name": "stdout"
        },
        {
          "output_type": "stream",
          "text": [
            "[INFO 04-24 14:57:10] ax.service.managed_loop: Running optimization trial 35...\n"
          ],
          "name": "stderr"
        },
        {
          "output_type": "stream",
          "text": [
            "['pct_change_0', 'pct_change_1', 'pct_change_2', 'pct_change_3', 'pct_change_4', 'pct_change_5', 'pct_change_6', 'pct_change_7', 'pct_change_8', 'pct_change_9', 'pct_change_10', 'pct_change_11', 'pct_change_12', 'pct_change_13', 'pct_change_14']\n",
            "Accuracy: 47.18% (0.99%)\n"
          ],
          "name": "stdout"
        },
        {
          "output_type": "stream",
          "text": [
            "[INFO 04-24 14:58:22] ax.service.managed_loop: Running optimization trial 36...\n"
          ],
          "name": "stderr"
        },
        {
          "output_type": "stream",
          "text": [
            "['pct_change_0', 'pct_change_1', 'pct_change_2', 'pct_change_3', 'pct_change_4', 'pct_change_5', 'pct_change_6', 'pct_change_7', 'pct_change_8', 'pct_change_9', 'pct_change_10', 'pct_change_11', 'pct_change_12', 'pct_change_13', 'pct_change_14', 'pct_change_15']\n",
            "Accuracy: 46.65% (0.68%)\n"
          ],
          "name": "stdout"
        },
        {
          "output_type": "stream",
          "text": [
            "[INFO 04-24 14:59:36] ax.service.managed_loop: Running optimization trial 37...\n"
          ],
          "name": "stderr"
        },
        {
          "output_type": "stream",
          "text": [
            "['pct_change_0', 'pct_change_1', 'pct_change_2', 'pct_change_3', 'pct_change_4', 'pct_change_5', 'pct_change_6', 'pct_change_7', 'pct_change_8', 'pct_change_9', 'pct_change_10', 'pct_change_11', 'pct_change_12', 'pct_change_13', 'pct_change_14', 'pct_change_15']\n",
            "Accuracy: 46.57% (0.67%)\n"
          ],
          "name": "stdout"
        },
        {
          "output_type": "stream",
          "text": [
            "[INFO 04-24 15:00:51] ax.service.managed_loop: Running optimization trial 38...\n"
          ],
          "name": "stderr"
        },
        {
          "output_type": "stream",
          "text": [
            "['pct_change_0', 'pct_change_1', 'pct_change_2', 'pct_change_3', 'pct_change_4', 'pct_change_5', 'pct_change_6', 'pct_change_7', 'pct_change_8', 'pct_change_9', 'pct_change_10', 'pct_change_11', 'pct_change_12', 'pct_change_13', 'pct_change_14', 'pct_change_15', 'pct_change_16']\n",
            "Accuracy: 46.58% (0.65%)\n"
          ],
          "name": "stdout"
        },
        {
          "output_type": "stream",
          "text": [
            "[INFO 04-24 15:02:04] ax.service.managed_loop: Running optimization trial 39...\n"
          ],
          "name": "stderr"
        },
        {
          "output_type": "stream",
          "text": [
            "['pct_change_0', 'pct_change_1', 'pct_change_2', 'pct_change_3', 'pct_change_4', 'pct_change_5', 'pct_change_6', 'pct_change_7', 'pct_change_8', 'pct_change_9', 'pct_change_10', 'pct_change_11', 'pct_change_12', 'pct_change_13', 'pct_change_14', 'pct_change_15']\n",
            "Accuracy: 46.65% (0.68%)\n"
          ],
          "name": "stdout"
        },
        {
          "output_type": "stream",
          "text": [
            "[INFO 04-24 15:03:18] ax.service.managed_loop: Running optimization trial 40...\n"
          ],
          "name": "stderr"
        },
        {
          "output_type": "stream",
          "text": [
            "['pct_change_0', 'pct_change_1', 'pct_change_2', 'pct_change_3', 'pct_change_4', 'pct_change_5', 'pct_change_6', 'pct_change_7', 'pct_change_8', 'pct_change_9', 'pct_change_10', 'pct_change_11', 'pct_change_12', 'pct_change_13', 'pct_change_14']\n",
            "Accuracy: 46.47% (0.68%)\n"
          ],
          "name": "stdout"
        },
        {
          "output_type": "stream",
          "text": [
            "[INFO 04-24 15:04:30] ax.service.managed_loop: Running optimization trial 41...\n"
          ],
          "name": "stderr"
        },
        {
          "output_type": "stream",
          "text": [
            "['pct_change_0', 'pct_change_1', 'pct_change_2', 'pct_change_3', 'pct_change_4', 'pct_change_5', 'pct_change_6', 'pct_change_7', 'pct_change_8', 'pct_change_9', 'pct_change_10', 'pct_change_11', 'pct_change_12', 'pct_change_13', 'pct_change_14', 'pct_change_15']\n",
            "Accuracy: 46.59% (0.66%)\n"
          ],
          "name": "stdout"
        },
        {
          "output_type": "stream",
          "text": [
            "[INFO 04-24 15:05:44] ax.service.managed_loop: Running optimization trial 42...\n"
          ],
          "name": "stderr"
        },
        {
          "output_type": "stream",
          "text": [
            "['pct_change_0', 'pct_change_1', 'pct_change_2', 'pct_change_3', 'pct_change_4', 'pct_change_5', 'pct_change_6', 'pct_change_7', 'pct_change_8', 'pct_change_9', 'pct_change_10', 'pct_change_11', 'pct_change_12', 'pct_change_13', 'pct_change_14', 'pct_change_15', 'pct_change_16']\n",
            "Accuracy: 47.19% (1.12%)\n"
          ],
          "name": "stdout"
        },
        {
          "output_type": "stream",
          "text": [
            "[INFO 04-24 15:06:57] ax.service.managed_loop: Running optimization trial 43...\n"
          ],
          "name": "stderr"
        },
        {
          "output_type": "stream",
          "text": [
            "['pct_change_0', 'pct_change_1', 'pct_change_2', 'pct_change_3', 'pct_change_4', 'pct_change_5', 'pct_change_6', 'pct_change_7', 'pct_change_8', 'pct_change_9', 'pct_change_10', 'pct_change_11', 'pct_change_12', 'pct_change_13', 'pct_change_14', 'pct_change_15']\n",
            "Accuracy: 47.54% (1.94%)\n"
          ],
          "name": "stdout"
        },
        {
          "output_type": "stream",
          "text": [
            "[INFO 04-24 15:08:10] ax.service.managed_loop: Running optimization trial 44...\n"
          ],
          "name": "stderr"
        },
        {
          "output_type": "stream",
          "text": [
            "['pct_change_0', 'pct_change_1', 'pct_change_2', 'pct_change_3', 'pct_change_4', 'pct_change_5', 'pct_change_6', 'pct_change_7', 'pct_change_8', 'pct_change_9', 'pct_change_10', 'pct_change_11', 'pct_change_12', 'pct_change_13', 'pct_change_14', 'pct_change_15']\n",
            "Accuracy: 46.60% (0.66%)\n"
          ],
          "name": "stdout"
        },
        {
          "output_type": "stream",
          "text": [
            "[INFO 04-24 15:09:25] ax.service.managed_loop: Running optimization trial 45...\n"
          ],
          "name": "stderr"
        },
        {
          "output_type": "stream",
          "text": [
            "['pct_change_0', 'pct_change_1', 'pct_change_2', 'pct_change_3', 'pct_change_4', 'pct_change_5', 'pct_change_6', 'pct_change_7', 'pct_change_8', 'pct_change_9', 'pct_change_10', 'pct_change_11', 'pct_change_12', 'pct_change_13', 'pct_change_14', 'pct_change_15']\n",
            "Accuracy: 46.58% (0.66%)\n"
          ],
          "name": "stdout"
        },
        {
          "output_type": "stream",
          "text": [
            "[INFO 04-24 15:10:40] ax.service.managed_loop: Running optimization trial 46...\n"
          ],
          "name": "stderr"
        },
        {
          "output_type": "stream",
          "text": [
            "['pct_change_0', 'pct_change_1', 'pct_change_2', 'pct_change_3', 'pct_change_4']\n",
            "Accuracy: 69.78% (4.44%)\n"
          ],
          "name": "stdout"
        },
        {
          "output_type": "stream",
          "text": [
            "[INFO 04-24 15:11:36] ax.service.managed_loop: Running optimization trial 47...\n"
          ],
          "name": "stderr"
        },
        {
          "output_type": "stream",
          "text": [
            "['pct_change_0', 'pct_change_1', 'pct_change_2', 'pct_change_3', 'pct_change_4', 'pct_change_5', 'pct_change_6', 'pct_change_7', 'pct_change_8', 'pct_change_9', 'pct_change_10', 'pct_change_11', 'pct_change_12', 'pct_change_13', 'pct_change_14', 'pct_change_15', 'pct_change_16', 'pct_change_17', 'pct_change_18', 'pct_change_19', 'pct_change_20']\n",
            "Accuracy: 47.18% (0.96%)\n"
          ],
          "name": "stdout"
        },
        {
          "output_type": "stream",
          "text": [
            "[INFO 04-24 15:12:53] ax.service.managed_loop: Running optimization trial 48...\n"
          ],
          "name": "stderr"
        },
        {
          "output_type": "stream",
          "text": [
            "['pct_change_0', 'pct_change_1', 'pct_change_2', 'pct_change_3', 'pct_change_4', 'pct_change_5', 'pct_change_6', 'pct_change_7', 'pct_change_8', 'pct_change_9', 'pct_change_10', 'pct_change_11', 'pct_change_12', 'pct_change_13', 'pct_change_14']\n",
            "Accuracy: 45.53% (0.56%)\n"
          ],
          "name": "stdout"
        },
        {
          "output_type": "stream",
          "text": [
            "[INFO 04-24 15:14:06] ax.service.managed_loop: Running optimization trial 49...\n"
          ],
          "name": "stderr"
        },
        {
          "output_type": "stream",
          "text": [
            "['pct_change_0', 'pct_change_1', 'pct_change_2', 'pct_change_3', 'pct_change_4', 'pct_change_5', 'pct_change_6', 'pct_change_7', 'pct_change_8', 'pct_change_9', 'pct_change_10', 'pct_change_11', 'pct_change_12', 'pct_change_13', 'pct_change_14', 'pct_change_15']\n",
            "Accuracy: 68.23% (4.64%)\n"
          ],
          "name": "stdout"
        },
        {
          "output_type": "stream",
          "text": [
            "[INFO 04-24 15:15:18] ax.service.managed_loop: Running optimization trial 50...\n"
          ],
          "name": "stderr"
        },
        {
          "output_type": "stream",
          "text": [
            "['pct_change_0', 'pct_change_1', 'pct_change_2', 'pct_change_3', 'pct_change_4', 'pct_change_5', 'pct_change_6', 'pct_change_7', 'pct_change_8', 'pct_change_9', 'pct_change_10', 'pct_change_11', 'pct_change_12', 'pct_change_13', 'pct_change_14', 'pct_change_15', 'pct_change_16', 'pct_change_17', 'pct_change_18', 'pct_change_19', 'pct_change_20', 'pct_change_21', 'pct_change_22']\n",
            "Accuracy: 79.22% (5.50%)\n"
          ],
          "name": "stdout"
        },
        {
          "output_type": "stream",
          "text": [
            "[INFO 04-24 15:16:31] ax.service.managed_loop: Running optimization trial 51...\n"
          ],
          "name": "stderr"
        },
        {
          "output_type": "stream",
          "text": [
            "['pct_change_0', 'pct_change_1', 'pct_change_2', 'pct_change_3', 'pct_change_4', 'pct_change_5', 'pct_change_6', 'pct_change_7', 'pct_change_8', 'pct_change_9', 'pct_change_10', 'pct_change_11', 'pct_change_12', 'pct_change_13', 'pct_change_14', 'pct_change_15', 'pct_change_16', 'pct_change_17', 'pct_change_18']\n",
            "Accuracy: 46.15% (2.58%)\n"
          ],
          "name": "stdout"
        },
        {
          "output_type": "stream",
          "text": [
            "[INFO 04-24 15:17:46] ax.service.managed_loop: Running optimization trial 52...\n"
          ],
          "name": "stderr"
        },
        {
          "output_type": "stream",
          "text": [
            "['pct_change_0', 'pct_change_1', 'pct_change_2', 'pct_change_3', 'pct_change_4', 'pct_change_5']\n",
            "Accuracy: 41.12% (2.17%)\n"
          ],
          "name": "stdout"
        },
        {
          "output_type": "stream",
          "text": [
            "[INFO 04-24 15:18:46] ax.service.managed_loop: Running optimization trial 53...\n"
          ],
          "name": "stderr"
        },
        {
          "output_type": "stream",
          "text": [
            "['pct_change_0', 'pct_change_1', 'pct_change_2', 'pct_change_3', 'pct_change_4', 'pct_change_5', 'pct_change_6', 'pct_change_7']\n",
            "Accuracy: 70.64% (4.37%)\n"
          ],
          "name": "stdout"
        },
        {
          "output_type": "stream",
          "text": [
            "[INFO 04-24 15:19:49] ax.service.managed_loop: Running optimization trial 54...\n"
          ],
          "name": "stderr"
        },
        {
          "output_type": "stream",
          "text": [
            "['pct_change_0', 'pct_change_1', 'pct_change_2', 'pct_change_3', 'pct_change_4', 'pct_change_5', 'pct_change_6', 'pct_change_7', 'pct_change_8', 'pct_change_9', 'pct_change_10', 'pct_change_11', 'pct_change_12', 'pct_change_13', 'pct_change_14', 'pct_change_15', 'pct_change_16', 'pct_change_17', 'pct_change_18', 'pct_change_19', 'pct_change_20']\n",
            "Accuracy: 46.17% (0.59%)\n"
          ],
          "name": "stdout"
        },
        {
          "output_type": "stream",
          "text": [
            "[INFO 04-24 15:21:05] ax.service.managed_loop: Running optimization trial 55...\n"
          ],
          "name": "stderr"
        },
        {
          "output_type": "stream",
          "text": [
            "['pct_change_0', 'pct_change_1', 'pct_change_2', 'pct_change_3', 'pct_change_4', 'pct_change_5', 'pct_change_6', 'pct_change_7', 'pct_change_8', 'pct_change_9', 'pct_change_10', 'pct_change_11', 'pct_change_12', 'pct_change_13', 'pct_change_14', 'pct_change_15', 'pct_change_16', 'pct_change_17', 'pct_change_18', 'pct_change_19', 'pct_change_20', 'pct_change_21', 'pct_change_22']\n",
            "Accuracy: 46.78% (0.98%)\n"
          ],
          "name": "stdout"
        },
        {
          "output_type": "stream",
          "text": [
            "[INFO 04-24 15:22:21] ax.service.managed_loop: Running optimization trial 56...\n"
          ],
          "name": "stderr"
        },
        {
          "output_type": "stream",
          "text": [
            "['pct_change_0', 'pct_change_1', 'pct_change_2', 'pct_change_3', 'pct_change_4', 'pct_change_5', 'pct_change_6', 'pct_change_7', 'pct_change_8', 'pct_change_9', 'pct_change_10', 'pct_change_11', 'pct_change_12', 'pct_change_13', 'pct_change_14', 'pct_change_15', 'pct_change_16', 'pct_change_17', 'pct_change_18', 'pct_change_19', 'pct_change_20', 'pct_change_21']\n",
            "Accuracy: 59.70% (6.10%)\n"
          ],
          "name": "stdout"
        },
        {
          "output_type": "stream",
          "text": [
            "[INFO 04-24 15:23:36] ax.service.managed_loop: Running optimization trial 57...\n"
          ],
          "name": "stderr"
        },
        {
          "output_type": "stream",
          "text": [
            "['pct_change_0', 'pct_change_1', 'pct_change_2', 'pct_change_3', 'pct_change_4', 'pct_change_5', 'pct_change_6', 'pct_change_7', 'pct_change_8', 'pct_change_9', 'pct_change_10', 'pct_change_11', 'pct_change_12', 'pct_change_13', 'pct_change_14', 'pct_change_15', 'pct_change_16', 'pct_change_17', 'pct_change_18', 'pct_change_19', 'pct_change_20']\n",
            "Accuracy: 48.24% (2.04%)\n"
          ],
          "name": "stdout"
        },
        {
          "output_type": "stream",
          "text": [
            "[INFO 04-24 15:24:53] ax.service.managed_loop: Running optimization trial 58...\n"
          ],
          "name": "stderr"
        },
        {
          "output_type": "stream",
          "text": [
            "['pct_change_0', 'pct_change_1', 'pct_change_2', 'pct_change_3', 'pct_change_4', 'pct_change_5', 'pct_change_6', 'pct_change_7', 'pct_change_8', 'pct_change_9']\n",
            "Accuracy: 41.39% (3.40%)\n"
          ],
          "name": "stdout"
        },
        {
          "output_type": "stream",
          "text": [
            "[INFO 04-24 15:26:02] ax.service.managed_loop: Running optimization trial 59...\n"
          ],
          "name": "stderr"
        },
        {
          "output_type": "stream",
          "text": [
            "['pct_change_0', 'pct_change_1', 'pct_change_2', 'pct_change_3', 'pct_change_4', 'pct_change_5', 'pct_change_6', 'pct_change_7', 'pct_change_8']\n",
            "Accuracy: 46.99% (3.55%)\n"
          ],
          "name": "stdout"
        },
        {
          "output_type": "stream",
          "text": [
            "[INFO 04-24 15:27:08] ax.service.managed_loop: Running optimization trial 60...\n"
          ],
          "name": "stderr"
        },
        {
          "output_type": "stream",
          "text": [
            "['pct_change_0', 'pct_change_1', 'pct_change_2', 'pct_change_3', 'pct_change_4', 'pct_change_5', 'pct_change_6', 'pct_change_7', 'pct_change_8', 'pct_change_9', 'pct_change_10', 'pct_change_11', 'pct_change_12', 'pct_change_13', 'pct_change_14', 'pct_change_15', 'pct_change_16', 'pct_change_17', 'pct_change_18', 'pct_change_19', 'pct_change_20', 'pct_change_21', 'pct_change_22']\n",
            "Accuracy: 94.70% (1.68%)\n"
          ],
          "name": "stdout"
        }
      ]
    },
    {
      "cell_type": "code",
      "metadata": {
        "id": "HWY7F4uurRWn",
        "colab_type": "code",
        "colab": {
          "base_uri": "https://localhost:8080/",
          "height": 104
        },
        "outputId": "e6dad8c8-a093-453c-ce9f-00df801f779b"
      },
      "source": [
        "display(best_parameters)\n",
        "display(values)"
      ],
      "execution_count": 11,
      "outputs": [
        {
          "output_type": "display_data",
          "data": {
            "text/plain": [
              "{'abscut': 0.0001000481583453447,\n",
              " 'holdtime': 3,\n",
              " 'numsteps': 16,\n",
              " 'stepper': 1.669402078638845}"
            ]
          },
          "metadata": {
            "tags": []
          }
        },
        {
          "output_type": "display_data",
          "data": {
            "text/plain": [
              "({'x_eval': 0.7433582310577644}, {'x_eval': {'x_eval': 5.513577566642014e-09}})"
            ]
          },
          "metadata": {
            "tags": []
          }
        }
      ]
    },
    {
      "cell_type": "code",
      "metadata": {
        "id": "HyKQYR8APLKU",
        "colab_type": "code",
        "colab": {}
      },
      "source": [
        "# Create a placeholder to store the stock data\n",
        "stock_data_dictionary = {}\n",
        "for stock_name in stock_list:\n",
        "    # Get the data\n",
        "    #df = data.get_data_yahoo(stock_name, start_date, end_date)\n",
        "    df=stock_dict[stock_name]\n",
        "    # Calculate the daily percent change\n",
        "    df['daily_pct_change'] = df['Close'].pct_change()\n",
        "    # create the predictors\n",
        "    predictor_list = []\n",
        "    for r in range(30):\n",
        "        df['pct_change_'+str(r)] = df.daily_pct_change.rolling(int(1.5**r)).sum()\n",
        "        #df['std_'+str(r)] = df.daily_pct_change.rolling(r).std()\n",
        "        predictor_list.append('pct_change_'+str(r))\n",
        "        #predictor_list.append('std_'+str(r))\n",
        "    # Target Variable\n",
        "    df['return_next_day'] = df.daily_pct_change.shift(-30).rolling(30).sum()/30\n",
        "    df['actual_signal'] = df.daily_pct_change.shift(-30).rolling(30).sum().map(lambda x: 0 if np.abs(x)<0.001 else np.sign(x))\n",
        "    df = df.dropna()\n",
        "    # Add the data to dictionary\n",
        "    stock_data_dictionary.update({stock_name: df})"
      ],
      "execution_count": 0,
      "outputs": []
    },
    {
      "cell_type": "code",
      "metadata": {
        "id": "Ux9mKyumP07b",
        "colab_type": "code",
        "colab": {
          "base_uri": "https://localhost:8080/",
          "height": 440
        },
        "outputId": "62f656bd-fc12-4617-d89a-229119d4e885"
      },
      "source": [
        "# Set the figure size\n",
        "plt.figure(figsize=(10, 7))\n",
        "# Access the dataframe of AAPL from the dictionary \n",
        "# and then compute and plot the returns\n",
        "(stock_data_dictionary['ETH'].daily_pct_change+1).cumprod().plot()\n",
        "# Set the title and axis labels and plot grid\n",
        "plt.title('ETH Returns')\n",
        "plt.ylabel('Cumulative Returns')\n",
        "plt.grid()\n",
        "plt.show()"
      ],
      "execution_count": 13,
      "outputs": [
        {
          "output_type": "display_data",
          "data": {
            "image/png": "[encoded data removed]",
            "text/plain": [
              "<Figure size 720x504 with 1 Axes>"
            ]
          },
          "metadata": {
            "tags": [],
            "needs_background": "light"
          }
        }
      ]
    },
    {
      "cell_type": "code",
      "metadata": {
        "id": "1phtYMF9QO-t",
        "colab_type": "code",
        "colab": {}
      },
      "source": [
        "# Create a placeholder for the train and test split data\n",
        "X_train = pd.DataFrame()\n",
        "X_test = pd.DataFrame()\n",
        "y_train = pd.Series()\n",
        "y_test = pd.Series()\n",
        "for stock_name in stock_list:\n",
        "    # Get predictor variables\n",
        "    X = stock_data_dictionary[stock_name][predictor_list]\n",
        "    # Get the target variable\n",
        "    y = stock_data_dictionary[stock_name].actual_signal\n",
        "    # Divide the dataset into train and test\n",
        "    train_length = int(len(X)*0.80)\n",
        "    X_train = X_train.append(X[:train_length])\n",
        "    X_test = X_test.append(X[train_length:])\n",
        "    y_train = y_train.append(y[:train_length])\n",
        "    y_test = y_test.append(y[train_length:])"
      ],
      "execution_count": 0,
      "outputs": []
    },
    {
      "cell_type": "code",
      "metadata": {
        "id": "jybhIbnsQUKQ",
        "colab_type": "code",
        "colab": {}
      },
      "source": [
        "# Initialize the model and set the hyperparameter values\n",
        "model = XGBClassifier(tree_method='gpu_hist', gpu_id=0)"
      ],
      "execution_count": 0,
      "outputs": []
    },
    {
      "cell_type": "code",
      "metadata": {
        "id": "M0wpQ64FQda8",
        "colab_type": "code",
        "colab": {
          "base_uri": "https://localhost:8080/",
          "height": 139
        },
        "outputId": "25f76899-a9fa-4672-93a3-581e54f1a8a7"
      },
      "source": [
        "model"
      ],
      "execution_count": 16,
      "outputs": [
        {
          "output_type": "execute_result",
          "data": {
            "text/plain": [
              "XGBClassifier(base_score=0.5, booster='gbtree', colsample_bylevel=1,\n",
              "              colsample_bynode=1, colsample_bytree=1, gamma=0, gpu_id=0,\n",
              "              learning_rate=0.1, max_delta_step=0, max_depth=3,\n",
              "              min_child_weight=1, missing=None, n_estimators=100, n_jobs=1,\n",
              "              nthread=None, objective='binary:logistic', random_state=0,\n",
              "              reg_alpha=0, reg_lambda=1, scale_pos_weight=1, seed=None,\n",
              "              silent=None, subsample=1, tree_method='gpu_hist', verbosity=1)"
            ]
          },
          "metadata": {
            "tags": []
          },
          "execution_count": 16
        }
      ]
    },
    {
      "cell_type": "code",
      "metadata": {
        "id": "0kMjCAIgQgFK",
        "colab_type": "code",
        "colab": {
          "base_uri": "https://localhost:8080/",
          "height": 35
        },
        "outputId": "0806b76c-5c82-4df8-e7bc-667b08df3ed0"
      },
      "source": [
        "# Initialize the KFold parameters\n",
        "kfold = KFold(n_splits=5, random_state=7)\n",
        "# Perform K-Fold Cross Validation\n",
        "results = cross_val_score(model, X_train, y_train, cv=kfold)\n",
        "# Print the average results\n",
        "print(\"Accuracy: %.2f%% (%.2f%%)\" % (results.mean()*100, results.std()*100))"
      ],
      "execution_count": 17,
      "outputs": [
        {
          "output_type": "stream",
          "text": [
            "Accuracy: 45.16% (1.36%)\n"
          ],
          "name": "stdout"
        }
      ]
    },
    {
      "cell_type": "code",
      "metadata": {
        "id": "E-qkUc3uQlFJ",
        "colab_type": "code",
        "colab": {
          "base_uri": "https://localhost:8080/",
          "height": 139
        },
        "outputId": "8a9b8527-ba05-441d-cc6e-7805c767148b"
      },
      "source": [
        "model.fit(X_train, y_train)"
      ],
      "execution_count": 18,
      "outputs": [
        {
          "output_type": "execute_result",
          "data": {
            "text/plain": [
              "XGBClassifier(base_score=0.5, booster='gbtree', colsample_bylevel=1,\n",
              "              colsample_bynode=1, colsample_bytree=1, gamma=0, gpu_id=0,\n",
              "              learning_rate=0.1, max_delta_step=0, max_depth=3,\n",
              "              min_child_weight=1, missing=None, n_estimators=100, n_jobs=1,\n",
              "              nthread=None, objective='multi:softprob', random_state=0,\n",
              "              reg_alpha=0, reg_lambda=1, scale_pos_weight=1, seed=None,\n",
              "              silent=None, subsample=1, tree_method='gpu_hist', verbosity=1)"
            ]
          },
          "metadata": {
            "tags": []
          },
          "execution_count": 18
        }
      ]
    },
    {
      "cell_type": "code",
      "metadata": {
        "id": "nUi0v1UvQ0xe",
        "colab_type": "code",
        "colab": {
          "base_uri": "https://localhost:8080/",
          "height": 295
        },
        "outputId": "86a726ae-7380-417c-bb38-2ec3aa77fecb"
      },
      "source": [
        "# Plot the top 7 features\n",
        "xgboost.plot_importance(model, max_num_features=10)\n",
        "# Show the plot\n",
        "plt.show()"
      ],
      "execution_count": 19,
      "outputs": [
        {
          "output_type": "display_data",
          "data": {
            "image/png": "[encoded data removed]",
            "text/plain": [
              "<Figure size 432x288 with 1 Axes>"
            ]
          },
          "metadata": {
            "tags": [],
            "needs_background": "light"
          }
        }
      ]
    },
    {
      "cell_type": "code",
      "metadata": {
        "id": "xUQcvfQvQ6LF",
        "colab_type": "code",
        "colab": {
          "base_uri": "https://localhost:8080/",
          "height": 191
        },
        "outputId": "0553454f-b0b2-48dd-b17e-7ca7079966fc"
      },
      "source": [
        "# Predict the trading signal on test dataset\n",
        "y_pred = model.predict(X_test)\n",
        "# Get the classification report\n",
        "print(classification_report(y_test, y_pred))"
      ],
      "execution_count": 20,
      "outputs": [
        {
          "output_type": "stream",
          "text": [
            "              precision    recall  f1-score   support\n",
            "\n",
            "        -1.0       0.44      0.35      0.39    231623\n",
            "         0.0       0.37      0.47      0.42    156355\n",
            "         1.0       0.44      0.46      0.45    233903\n",
            "\n",
            "    accuracy                           0.42    621881\n",
            "   macro avg       0.42      0.43      0.42    621881\n",
            "weighted avg       0.43      0.42      0.42    621881\n",
            "\n"
          ],
          "name": "stdout"
        }
      ]
    },
    {
      "cell_type": "code",
      "metadata": {
        "id": "LGGkpQDVQ-ul",
        "colab_type": "code",
        "colab": {
          "base_uri": "https://localhost:8080/",
          "height": 898
        },
        "outputId": "953599bf-0b60-4d8c-be66-3dafd53700db"
      },
      "source": [
        "# Create an empty dataframe to store the strategy returns of individual stocks\n",
        "portfolio = pd.DataFrame(columns=stock_list)\n",
        "# For each stock in the stock list, plot the strategy returns and buy and hold returns\n",
        "for stock_name in stock_list:\n",
        "    # Get the data\n",
        "    df = stock_data_dictionary[stock_name]\n",
        "    # Store the predictor variables in X\n",
        "    X = df[predictor_list]\n",
        "    # Define the train and test dataset\n",
        "    train_length = int(len(X)*0.80)\n",
        "    # Predict the signal and store in predicted signal column\n",
        "    df['predicted_signal'] = model.predict(X)\n",
        "    # Calculate the strategy returns\n",
        "    df['strategy_returns'] = df.return_next_day * df.predicted_signal\n",
        "    # Add the strategy returns to the portfolio dataframe\n",
        "    portfolio[stock_name] = df.strategy_returns[train_length:]\n",
        "    # Plot the stock strategy and buy and hold returns\n",
        "    print(stock_name)\n",
        "    # Set the figure size\n",
        "    plt.figure(figsize=(10, 7))\n",
        "    # Calculate the cumulative strategy returns and plot\n",
        "    (df.strategy_returns[train_length:]+1).cumprod().plot()\n",
        "    # Calculate the cumulative buy and hold strategy returns\n",
        "    (stock_data_dictionary[stock_name][train_length:].daily_pct_change+1).cumprod().plot()\n",
        "    # Set the title, label and grid\n",
        "    ((df.strategy_returns[train_length:]+1).cumprod()-(stock_data_dictionary[stock_name][train_length:].daily_pct_change+1).cumprod()).plot()\n",
        "    plt.title(stock_name + ' Returns')\n",
        "    plt.ylabel('Cumulative Returns')\n",
        "    plt.legend(labels=['Strategy Returns', 'Buy and Hold Returns', 'Hedged Returns'])\n",
        "    plt.grid()\n",
        "    plt.show()"
      ],
      "execution_count": 21,
      "outputs": [
        {
          "output_type": "stream",
          "text": [
            "BTC\n"
          ],
          "name": "stdout"
        },
        {
          "output_type": "display_data",
          "data": {
            "image/png": "[encoded data removed]",
            "text/plain": [
              "<Figure size 720x504 with 1 Axes>"
            ]
          },
          "metadata": {
            "tags": [],
            "needs_background": "light"
          }
        },
        {
          "output_type": "stream",
          "text": [
            "ETH\n"
          ],
          "name": "stdout"
        },
        {
          "output_type": "display_data",
          "data": {
            "image/png": "[encoded data removed]",
            "text/plain": [
              "<Figure size 720x504 with 1 Axes>"
            ]
          },
          "metadata": {
            "tags": [],
            "needs_background": "light"
          }
        }
      ]
    },
    {
      "cell_type": "code",
      "metadata": {
        "id": "_HSVRV18RHIp",
        "colab_type": "code",
        "colab": {
          "base_uri": "https://localhost:8080/",
          "height": 440
        },
        "outputId": "5bb9e54c-39e7-46a5-8096-4b3ccf7a6c4d"
      },
      "source": [
        "# Drop missing values\n",
        "portfolio.dropna(inplace=True)\n",
        "# Set the figure size\n",
        "plt.figure(figsize=(10, 7))\n",
        "# Calculate the cumulative portfolio returns by assuming equal allocation to the stocks\n",
        "(portfolio.mean(axis=1)+1).cumprod().plot()\n",
        "# Set the title and label of the chart\n",
        "plt.title('Portfolio Strategy Returns')\n",
        "plt.ylabel('Cumulative Returns')\n",
        "plt.grid()\n",
        "plt.show()"
      ],
      "execution_count": 22,
      "outputs": [
        {
          "output_type": "display_data",
          "data": {
            "image/png": "[encoded data removed]",
            "text/plain": [
              "<Figure size 720x504 with 1 Axes>"
            ]
          },
          "metadata": {
            "tags": [],
            "needs_background": "light"
          }
        }
      ]
    },
    {
      "cell_type": "code",
      "metadata": {
        "id": "jVnxt62xROSH",
        "colab_type": "code",
        "colab": {}
      },
      "source": [
        "portfolio=portfolio.resample('1D').sum()"
      ],
      "execution_count": 0,
      "outputs": []
    },
    {
      "cell_type": "code",
      "metadata": {
        "id": "lZzggfrARUpL",
        "colab_type": "code",
        "colab": {
          "base_uri": "https://localhost:8080/",
          "height": 294
        },
        "outputId": "b33ed47c-3690-463a-cb3d-005c666d2209"
      },
      "source": [
        "portfolio.describe()"
      ],
      "execution_count": 24,
      "outputs": [
        {
          "output_type": "execute_result",
          "data": {
            "text/html": [
              "<div>\n",
              "<style scoped>\n",
              "    .dataframe tbody tr th:only-of-type {\n",
              "        vertical-align: middle;\n",
              "    }\n",
              "\n",
              "    .dataframe tbody tr th {\n",
              "        vertical-align: top;\n",
              "    }\n",
              "\n",
              "    .dataframe thead th {\n",
              "        text-align: right;\n",
              "    }\n",
              "</style>\n",
              "<table border=\"1\" class=\"dataframe\">\n",
              "  <thead>\n",
              "    <tr style=\"text-align: right;\">\n",
              "      <th></th>\n",
              "      <th>BTC</th>\n",
              "      <th>ETH</th>\n",
              "    </tr>\n",
              "  </thead>\n",
              "  <tbody>\n",
              "    <tr>\n",
              "      <th>count</th>\n",
              "      <td>216.000000</td>\n",
              "      <td>216.000000</td>\n",
              "    </tr>\n",
              "    <tr>\n",
              "      <th>mean</th>\n",
              "      <td>0.003619</td>\n",
              "      <td>0.005255</td>\n",
              "    </tr>\n",
              "    <tr>\n",
              "      <th>std</th>\n",
              "      <td>0.030236</td>\n",
              "      <td>0.034752</td>\n",
              "    </tr>\n",
              "    <tr>\n",
              "      <th>min</th>\n",
              "      <td>-0.127833</td>\n",
              "      <td>-0.246533</td>\n",
              "    </tr>\n",
              "    <tr>\n",
              "      <th>25%</th>\n",
              "      <td>-0.004956</td>\n",
              "      <td>-0.005826</td>\n",
              "    </tr>\n",
              "    <tr>\n",
              "      <th>50%</th>\n",
              "      <td>0.004605</td>\n",
              "      <td>0.007720</td>\n",
              "    </tr>\n",
              "    <tr>\n",
              "      <th>75%</th>\n",
              "      <td>0.014347</td>\n",
              "      <td>0.019969</td>\n",
              "    </tr>\n",
              "    <tr>\n",
              "      <th>max</th>\n",
              "      <td>0.194763</td>\n",
              "      <td>0.122130</td>\n",
              "    </tr>\n",
              "  </tbody>\n",
              "</table>\n",
              "</div>"
            ],
            "text/plain": [
              "              BTC         ETH\n",
              "count  216.000000  216.000000\n",
              "mean     0.003619    0.005255\n",
              "std      0.030236    0.034752\n",
              "min     -0.127833   -0.246533\n",
              "25%     -0.004956   -0.005826\n",
              "50%      0.004605    0.007720\n",
              "75%      0.014347    0.019969\n",
              "max      0.194763    0.122130"
            ]
          },
          "metadata": {
            "tags": []
          },
          "execution_count": 24
        }
      ]
    },
    {
      "cell_type": "code",
      "metadata": {
        "id": "kWsADQiVRYOh",
        "colab_type": "code",
        "colab": {
          "base_uri": "https://localhost:8080/",
          "height": 869
        },
        "outputId": "bffa3c8d-cdac-4a3d-fe5f-2febb86098b4"
      },
      "source": [
        "!pip install pyfolio"
      ],
      "execution_count": 25,
      "outputs": [
        {
          "output_type": "stream",
          "text": [
            "Collecting pyfolio\n",
            "\u001b[?25l  Downloading https://files.pythonhosted.org/packages/28/b4/99799b743c4619752f88b70354924132a2e9b82f4656fe7c55eaa9101392/pyfolio-0.9.2.tar.gz (91kB)\n",
            "\r\u001b[K     |███▋                            | 10kB 28.2MB/s eta 0:00:01\r\u001b[K     |███████▏                        | 20kB 2.1MB/s eta 0:00:01\r\u001b[K     |██████████▉                     | 30kB 3.1MB/s eta 0:00:01\r\u001b[K     |██████████████▍                 | 40kB 2.1MB/s eta 0:00:01\r\u001b[K     |██████████████████              | 51kB 2.6MB/s eta 0:00:01\r\u001b[K     |█████████████████████▋          | 61kB 3.1MB/s eta 0:00:01\r\u001b[K     |█████████████████████████▏      | 71kB 3.5MB/s eta 0:00:01\r\u001b[K     |████████████████████████████▊   | 81kB 2.8MB/s eta 0:00:01\r\u001b[K     |████████████████████████████████| 92kB 2.6MB/s \n",
            "\u001b[?25hRequirement already satisfied: ipython>=3.2.3 in /usr/local/lib/python3.6/dist-packages (from pyfolio) (5.5.0)\n",
            "Requirement already satisfied: matplotlib>=1.4.0 in /usr/local/lib/python3.6/dist-packages (from pyfolio) (3.2.1)\n",
            "Requirement already satisfied: numpy>=1.11.1 in /usr/local/lib/python3.6/dist-packages (from pyfolio) (1.18.2)\n",
            "Requirement already satisfied: pandas>=0.18.1 in /usr/local/lib/python3.6/dist-packages (from pyfolio) (1.0.3)\n",
            "Requirement already satisfied: pytz>=2014.10 in /usr/local/lib/python3.6/dist-packages (from pyfolio) (2018.9)\n",
            "Requirement already satisfied: scipy>=0.14.0 in /usr/local/lib/python3.6/dist-packages (from pyfolio) (1.4.1)\n",
            "Requirement already satisfied: scikit-learn>=0.16.1 in /usr/local/lib/python3.6/dist-packages (from pyfolio) (0.22.2.post1)\n",
            "Requirement already satisfied: seaborn>=0.7.1 in /usr/local/lib/python3.6/dist-packages (from pyfolio) (0.10.0)\n",
            "Collecting empyrical>=0.5.0\n",
            "\u001b[?25l  Downloading https://files.pythonhosted.org/packages/84/9e/9506e8b25464ff57ef93b5ba9092b464b44dc76b717695b126b3c93214a2/empyrical-0.5.3.tar.gz (50kB)\n",
            "\r\u001b[K     |██████▌                         | 10kB 33.5MB/s eta 0:00:01\r\u001b[K     |█████████████                   | 20kB 42.0MB/s eta 0:00:01\r\u001b[K     |███████████████████▌            | 30kB 51.2MB/s eta 0:00:01\r\u001b[K     |██████████████████████████      | 40kB 56.4MB/s eta 0:00:01\r\u001b[K     |████████████████████████████████| 51kB 8.6MB/s \n",
            "\u001b[?25hRequirement already satisfied: prompt-toolkit<2.0.0,>=1.0.4 in /usr/local/lib/python3.6/dist-packages (from ipython>=3.2.3->pyfolio) (1.0.18)\n",
            "Requirement already satisfied: simplegeneric>0.8 in /usr/local/lib/python3.6/dist-packages (from ipython>=3.2.3->pyfolio) (0.8.1)\n",
            "Requirement already satisfied: pygments in /usr/local/lib/python3.6/dist-packages (from ipython>=3.2.3->pyfolio) (2.1.3)\n",
            "Requirement already satisfied: pexpect; sys_platform != \"win32\" in /usr/local/lib/python3.6/dist-packages (from ipython>=3.2.3->pyfolio) (4.8.0)\n",
            "Requirement already satisfied: traitlets>=4.2 in /usr/local/lib/python3.6/dist-packages (from ipython>=3.2.3->pyfolio) (4.3.3)\n",
            "Requirement already satisfied: setuptools>=18.5 in /usr/local/lib/python3.6/dist-packages (from ipython>=3.2.3->pyfolio) (46.1.3)\n",
            "Requirement already satisfied: pickleshare in /usr/local/lib/python3.6/dist-packages (from ipython>=3.2.3->pyfolio) (0.7.5)\n",
            "Requirement already satisfied: decorator in /usr/local/lib/python3.6/dist-packages (from ipython>=3.2.3->pyfolio) (4.4.2)\n",
            "Requirement already satisfied: pyparsing!=2.0.4,!=2.1.2,!=2.1.6,>=2.0.1 in /usr/local/lib/python3.6/dist-packages (from matplotlib>=1.4.0->pyfolio) (2.4.7)\n",
            "Requirement already satisfied: python-dateutil>=2.1 in /usr/local/lib/python3.6/dist-packages (from matplotlib>=1.4.0->pyfolio) (2.8.1)\n",
            "Requirement already satisfied: kiwisolver>=1.0.1 in /usr/local/lib/python3.6/dist-packages (from matplotlib>=1.4.0->pyfolio) (1.2.0)\n",
            "Requirement already satisfied: cycler>=0.10 in /usr/local/lib/python3.6/dist-packages (from matplotlib>=1.4.0->pyfolio) (0.10.0)\n",
            "Requirement already satisfied: joblib>=0.11 in /usr/local/lib/python3.6/dist-packages (from scikit-learn>=0.16.1->pyfolio) (0.14.1)\n",
            "Requirement already satisfied: pandas-datareader>=0.2 in /usr/local/lib/python3.6/dist-packages (from empyrical>=0.5.0->pyfolio) (0.8.1)\n",
            "Requirement already satisfied: wcwidth in /usr/local/lib/python3.6/dist-packages (from prompt-toolkit<2.0.0,>=1.0.4->ipython>=3.2.3->pyfolio) (0.1.9)\n",
            "Requirement already satisfied: six>=1.9.0 in /usr/local/lib/python3.6/dist-packages (from prompt-toolkit<2.0.0,>=1.0.4->ipython>=3.2.3->pyfolio) (1.12.0)\n",
            "Requirement already satisfied: ptyprocess>=0.5 in /usr/local/lib/python3.6/dist-packages (from pexpect; sys_platform != \"win32\"->ipython>=3.2.3->pyfolio) (0.6.0)\n",
            "Requirement already satisfied: ipython-genutils in /usr/local/lib/python3.6/dist-packages (from traitlets>=4.2->ipython>=3.2.3->pyfolio) (0.2.0)\n",
            "Requirement already satisfied: lxml in /usr/local/lib/python3.6/dist-packages (from pandas-datareader>=0.2->empyrical>=0.5.0->pyfolio) (4.2.6)\n",
            "Requirement already satisfied: requests>=2.3.0 in /usr/local/lib/python3.6/dist-packages (from pandas-datareader>=0.2->empyrical>=0.5.0->pyfolio) (2.21.0)\n",
            "Requirement already satisfied: chardet<3.1.0,>=3.0.2 in /usr/local/lib/python3.6/dist-packages (from requests>=2.3.0->pandas-datareader>=0.2->empyrical>=0.5.0->pyfolio) (3.0.4)\n",
            "Requirement already satisfied: urllib3<1.25,>=1.21.1 in /usr/local/lib/python3.6/dist-packages (from requests>=2.3.0->pandas-datareader>=0.2->empyrical>=0.5.0->pyfolio) (1.24.3)\n",
            "Requirement already satisfied: idna<2.9,>=2.5 in /usr/local/lib/python3.6/dist-packages (from requests>=2.3.0->pandas-datareader>=0.2->empyrical>=0.5.0->pyfolio) (2.8)\n",
            "Requirement already satisfied: certifi>=2017.4.17 in /usr/local/lib/python3.6/dist-packages (from requests>=2.3.0->pandas-datareader>=0.2->empyrical>=0.5.0->pyfolio) (2020.4.5.1)\n",
            "Building wheels for collected packages: pyfolio, empyrical\n",
            "  Building wheel for pyfolio (setup.py) ... \u001b[?25l\u001b[?25hdone\n",
            "  Created wheel for pyfolio: filename=pyfolio-0.9.2-cp36-none-any.whl size=88668 sha256=825a9f5e187191ecca689228cf54ce8ed802c795bb071d79d553ff9e27f85cc4\n",
            "  Stored in directory: /root/.cache/pip/wheels/0d/a8/7d/ac33fe6bf6f3db370291c9de303460d00b8f97cc40a1d80f72\n",
            "  Building wheel for empyrical (setup.py) ... \u001b[?25l\u001b[?25hdone\n",
            "  Created wheel for empyrical: filename=empyrical-0.5.3-cp36-none-any.whl size=37087 sha256=10878868db728657c3fdc2526306fc1dece7db3840528ce599d954a79e2509f4\n",
            "  Stored in directory: /root/.cache/pip/wheels/10/a4/3b/951bd609878a82fd72b9ea23699daf1eaada4ff6f583152876\n",
            "Successfully built pyfolio empyrical\n",
            "Installing collected packages: empyrical, pyfolio\n",
            "Successfully installed empyrical-0.5.3 pyfolio-0.9.2\n"
          ],
          "name": "stdout"
        }
      ]
    },
    {
      "cell_type": "code",
      "metadata": {
        "id": "vCKqMTw1RiDY",
        "colab_type": "code",
        "colab": {
          "base_uri": "https://localhost:8080/",
          "height": 1000
        },
        "outputId": "f6862fd3-78f7-4c6c-84ec-920646749d4b"
      },
      "source": [
        "import pyfolio as pf\n",
        "pf.create_simple_tear_sheet(portfolio.mean(axis=1))"
      ],
      "execution_count": 26,
      "outputs": [
        {
          "output_type": "display_data",
          "data": {
            "text/html": [
              "<table border=\"1\" class=\"dataframe\">\n",
              "  <thead>\n",
              "    <tr style=\"text-align: right;\"><th>Start date</th><td colspan=2>2019-09-15</td></tr>\n",
              "    <tr style=\"text-align: right;\"><th>End date</th><td colspan=2>2020-04-17</td></tr>\n",
              "    <tr style=\"text-align: right;\"><th>Total months</th><td colspan=2>10</td></tr>\n",
              "    <tr style=\"text-align: right;\">\n",
              "      <th></th>\n",
              "      <th>Backtest</th>\n",
              "    </tr>\n",
              "  </thead>\n",
              "  <tbody>\n",
              "    <tr>\n",
              "      <th>Annual return</th>\n",
              "      <td>173.0%</td>\n",
              "    </tr>\n",
              "    <tr>\n",
              "      <th>Cumulative returns</th>\n",
              "      <td>136.5%</td>\n",
              "    </tr>\n",
              "    <tr>\n",
              "      <th>Annual volatility</th>\n",
              "      <td>47.1%</td>\n",
              "    </tr>\n",
              "    <tr>\n",
              "      <th>Sharpe ratio</th>\n",
              "      <td>2.37</td>\n",
              "    </tr>\n",
              "    <tr>\n",
              "      <th>Calmar ratio</th>\n",
              "      <td>10.14</td>\n",
              "    </tr>\n",
              "    <tr>\n",
              "      <th>Stability</th>\n",
              "      <td>0.76</td>\n",
              "    </tr>\n",
              "    <tr>\n",
              "      <th>Max drawdown</th>\n",
              "      <td>-17.1%</td>\n",
              "    </tr>\n",
              "    <tr>\n",
              "      <th>Omega ratio</th>\n",
              "      <td>1.59</td>\n",
              "    </tr>\n",
              "    <tr>\n",
              "      <th>Sortino ratio</th>\n",
              "      <td>3.43</td>\n",
              "    </tr>\n",
              "    <tr>\n",
              "      <th>Skew</th>\n",
              "      <td>-0.63</td>\n",
              "    </tr>\n",
              "    <tr>\n",
              "      <th>Kurtosis</th>\n",
              "      <td>7.12</td>\n",
              "    </tr>\n",
              "    <tr>\n",
              "      <th>Tail ratio</th>\n",
              "      <td>1.08</td>\n",
              "    </tr>\n",
              "    <tr>\n",
              "      <th>Daily value at risk</th>\n",
              "      <td>-5.5%</td>\n",
              "    </tr>\n",
              "  </tbody>\n",
              "</table>"
            ],
            "text/plain": [
              "<IPython.core.display.HTML object>"
            ]
          },
          "metadata": {
            "tags": []
          }
        },
        {
          "output_type": "display_data",
          "data": {
            "image/png": "[encoded data removed]",
            "text/plain": [
              "<Figure size 1008x1728 with 3 Axes>"
            ]
          },
          "metadata": {
            "tags": []
          }
        }
      ]
    },
    {
      "cell_type": "code",
      "metadata": {
        "id": "ZBXDeyDmRpb6",
        "colab_type": "code",
        "colab": {
          "base_uri": "https://localhost:8080/",
          "height": 35
        },
        "outputId": "cc36b611-f473-4925-bc98-6c6ada74d9fb"
      },
      "source": [
        "1.6**30"
      ],
      "execution_count": 27,
      "outputs": [
        {
          "output_type": "execute_result",
          "data": {
            "text/plain": [
              "1329227.995784918"
            ]
          },
          "metadata": {
            "tags": []
          },
          "execution_count": 27
        }
      ]
    },
    {
      "cell_type": "code",
      "metadata": {
        "id": "cn10yyfhTUKL",
        "colab_type": "code",
        "colab": {
          "base_uri": "https://localhost:8080/",
          "height": 35
        },
        "outputId": "4c3d6a1b-cc9b-43b3-b054-8f068e2fc66d"
      },
      "source": [
        "1.5**2"
      ],
      "execution_count": 28,
      "outputs": [
        {
          "output_type": "execute_result",
          "data": {
            "text/plain": [
              "2.25"
            ]
          },
          "metadata": {
            "tags": []
          },
          "execution_count": 28
        }
      ]
    },
    {
      "cell_type": "code",
      "metadata": {
        "id": "7VG_tJaMTaTd",
        "colab_type": "code",
        "colab": {
          "base_uri": "https://localhost:8080/",
          "height": 35
        },
        "outputId": "65862f58-a770-4406-a2a5-fba55a353e92"
      },
      "source": [
        "1.5**3"
      ],
      "execution_count": 29,
      "outputs": [
        {
          "output_type": "execute_result",
          "data": {
            "text/plain": [
              "3.375"
            ]
          },
          "metadata": {
            "tags": []
          },
          "execution_count": 29
        }
      ]
    },
    {
      "cell_type": "code",
      "metadata": {
        "id": "2Z1x7vZcTbLK",
        "colab_type": "code",
        "colab": {
          "base_uri": "https://localhost:8080/",
          "height": 35
        },
        "outputId": "49c9d7f7-7adf-4240-e9b0-625f3d891e0c"
      },
      "source": [
        "1.5**4"
      ],
      "execution_count": 30,
      "outputs": [
        {
          "output_type": "execute_result",
          "data": {
            "text/plain": [
              "5.0625"
            ]
          },
          "metadata": {
            "tags": []
          },
          "execution_count": 30
        }
      ]
    },
    {
      "cell_type": "code",
      "metadata": {
        "id": "YwsELL2bTcJJ",
        "colab_type": "code",
        "colab": {
          "base_uri": "https://localhost:8080/",
          "height": 35
        },
        "outputId": "9857a622-48f4-47b6-83bb-b253ba5b920f"
      },
      "source": [
        "1.5**30"
      ],
      "execution_count": 31,
      "outputs": [
        {
          "output_type": "execute_result",
          "data": {
            "text/plain": [
              "191751.0592328841"
            ]
          },
          "metadata": {
            "tags": []
          },
          "execution_count": 31
        }
      ]
    },
    {
      "cell_type": "code",
      "metadata": {
        "id": "LrNGbfmMTdID",
        "colab_type": "code",
        "colab": {
          "base_uri": "https://localhost:8080/",
          "height": 35
        },
        "outputId": "e9f4fb4b-35c6-4cee-8fc4-c5f0fa056390"
      },
      "source": [
        "int(round(1.6))"
      ],
      "execution_count": 32,
      "outputs": [
        {
          "output_type": "execute_result",
          "data": {
            "text/plain": [
              "2"
            ]
          },
          "metadata": {
            "tags": []
          },
          "execution_count": 32
        }
      ]
    },
    {
      "cell_type": "code",
      "metadata": {
        "id": "zuvH_vLIzNdt",
        "colab_type": "code",
        "colab": {
          "base_uri": "https://localhost:8080/",
          "height": 35
        },
        "outputId": "e831757b-8a6e-4ca0-8591-96aea5911931"
      },
      "source": [
        "round(1.6)"
      ],
      "execution_count": 33,
      "outputs": [
        {
          "output_type": "execute_result",
          "data": {
            "text/plain": [
              "2"
            ]
          },
          "metadata": {
            "tags": []
          },
          "execution_count": 33
        }
      ]
    },
    {
      "cell_type": "code",
      "metadata": {
        "id": "zfOn90Q0zPrm",
        "colab_type": "code",
        "colab": {
          "base_uri": "https://localhost:8080/",
          "height": 35
        },
        "outputId": "2d630afc-4594-4202-c33c-1757e30124e3"
      },
      "source": [
        "int(1.6)"
      ],
      "execution_count": 34,
      "outputs": [
        {
          "output_type": "execute_result",
          "data": {
            "text/plain": [
              "1"
            ]
          },
          "metadata": {
            "tags": []
          },
          "execution_count": 34
        }
      ]
    },
    {
      "cell_type": "code",
      "metadata": {
        "id": "xE0s0UPfzSyY",
        "colab_type": "code",
        "colab": {}
      },
      "source": [
        "dog = {'a':1, 'b':2}"
      ],
      "execution_count": 0,
      "outputs": []
    },
    {
      "cell_type": "code",
      "metadata": {
        "id": "Yoppe8CsXuvZ",
        "colab_type": "code",
        "colab": {
          "base_uri": "https://localhost:8080/",
          "height": 52
        },
        "outputId": "158dcb2c-900e-4f82-f3e1-36dacb16f7d3"
      },
      "source": [
        "for i in dog:\n",
        "  print(i)"
      ],
      "execution_count": 36,
      "outputs": [
        {
          "output_type": "stream",
          "text": [
            "a\n",
            "b\n"
          ],
          "name": "stdout"
        }
      ]
    },
    {
      "cell_type": "code",
      "metadata": {
        "id": "7XHUN4tMXyCT",
        "colab_type": "code",
        "colab": {
          "base_uri": "https://localhost:8080/",
          "height": 132
        },
        "outputId": "7b211d24-ef5a-4cb8-e57b-8027da6b43fe"
      },
      "source": [
        "*dog"
      ],
      "execution_count": 37,
      "outputs": [
        {
          "output_type": "error",
          "ename": "SyntaxError",
          "evalue": "ignored",
          "traceback": [
            "\u001b[0;36m  File \u001b[0;32m\"<ipython-input-37-02376368cbff>\"\u001b[0;36m, line \u001b[0;32m1\u001b[0m\n\u001b[0;31m    *dog\u001b[0m\n\u001b[0m        ^\u001b[0m\n\u001b[0;31mSyntaxError\u001b[0m\u001b[0;31m:\u001b[0m can't use starred expression here\n"
          ]
        }
      ]
    },
    {
      "cell_type": "code",
      "metadata": {
        "id": "fzTT5nnHYBVE",
        "colab_type": "code",
        "colab": {}
      },
      "source": [
        "z = *dog"
      ],
      "execution_count": 0,
      "outputs": []
    },
    {
      "cell_type": "code",
      "metadata": {
        "id": "UTyJYHeEYEDc",
        "colab_type": "code",
        "colab": {}
      },
      "source": [
        "z = [*dog]"
      ],
      "execution_count": 0,
      "outputs": []
    },
    {
      "cell_type": "code",
      "metadata": {
        "id": "5z1vVGPdYFaJ",
        "colab_type": "code",
        "colab": {}
      },
      "source": [
        "z"
      ],
      "execution_count": 0,
      "outputs": []
    },
    {
      "cell_type": "code",
      "metadata": {
        "id": "6S9dkQkzYQQC",
        "colab_type": "code",
        "colab": {}
      },
      "source": [
        "1.7**30"
      ],
      "execution_count": 0,
      "outputs": []
    },
    {
      "cell_type": "code",
      "metadata": {
        "id": "nCrrWF_3eSIo",
        "colab_type": "code",
        "colab": {}
      },
      "source": [
        "1.5 ** 30"
      ],
      "execution_count": 0,
      "outputs": []
    },
    {
      "cell_type": "code",
      "metadata": {
        "id": "QTE3NqdReaCh",
        "colab_type": "code",
        "colab": {}
      },
      "source": [
        "1.7**20"
      ],
      "execution_count": 0,
      "outputs": []
    },
    {
      "cell_type": "code",
      "metadata": {
        "id": "54A5L-j2e0a0",
        "colab_type": "code",
        "colab": {}
      },
      "source": [
        ""
      ],
      "execution_count": 0,
      "outputs": []
    }
  ]
}